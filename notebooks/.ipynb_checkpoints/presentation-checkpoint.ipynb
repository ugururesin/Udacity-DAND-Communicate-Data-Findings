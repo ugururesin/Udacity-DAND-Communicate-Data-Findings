{
 "cells": [
  {
   "cell_type": "markdown",
   "metadata": {
    "slideshow": {
     "slide_type": "slide"
    }
   },
   "source": [
    "# UDACITY - DATA ANALYST NANODEGREE PROJECT #5\n",
    "## Ford - Go Bike Sharing System"
   ]
  },
  {
   "cell_type": "markdown",
   "metadata": {
    "slideshow": {
     "slide_type": "slide"
    }
   },
   "source": [
    "## Introduction\n",
    "\n",
    "In this study, 20 different data frames that contain various information for the 'Ford GoBike' bike sharing system are gathered, assessed, cleaned and analyzed.\n",
    "\n",
    "#### The dataset information\n",
    "We combined all data frames. It includes more than 3.8 million observations (rows) and 19 columns that hold various information for the bike sharing system users such as usage duration, user birth year etc. The data includes the record starting from 2017 up to 2019 July!\n",
    "\n",
    "#### Why this dataset?\n",
    "I am currently working for one of the joint ventures of Ford Motor Company as an engineer.<br>\n",
    "Thus, I am really interested to study with 'Ford GoBike' data. In this study, one of the my goals is to understand the bike sharing system charactheristics for example which gender of users prefer this system or how old they're mostly."
   ]
  },
  {
   "cell_type": "markdown",
   "metadata": {
    "slideshow": {
     "slide_type": "slide"
    }
   },
   "source": [
    "#### Research Questions\n",
    "Univariate Exploration (Only one variable is considered)\n",
    "1. Mostly preferred bike sharing locations (Find top-10)\n",
    "2. Mostly preferred trip routes (Also find the most preffered trip route)\n",
    "3. The age distribution of Ford GoBike users\n",
    "4. Bike usage according to daily hour, day and month\n",
    "5. Trip durations over days\n",
    "6. User types\n",
    "\n",
    "Bivariate Exploration (Two variables are considered at the same time)\n",
    "1. Hourly bike usage according to user type\n",
    "2. Monthly bike usage according to user type\n",
    "\n",
    "Multivariate Exploration \n",
    "1. Hourly bike usage according to gender\n",
    "2. Monthly bike usage according to gender\n",
    "\n",
    "Also, in this study we aim to find knowledge for the future bike sharing system investors!"
   ]
  },
  {
   "cell_type": "code",
   "execution_count": 1,
   "metadata": {
    "slideshow": {
     "slide_type": "skip"
    }
   },
   "outputs": [],
   "source": [
    "## REQUIRED LIBRARIES\n",
    "import numpy as np\n",
    "import pandas as pd\n",
    "import requests\n",
    "from os import path, getcwd, chdir, makedirs, listdir\n",
    "\n",
    "import matplotlib.pyplot as plt\n",
    "import seaborn as sb\n",
    "%matplotlib inline\n",
    "\n",
    "import calendar\n",
    "import datetime\n",
    "import csv\n",
    "\n",
    "#Reference: https://stackoverflow.com/questions/9419162/download-returned-zip-file-from-url\n",
    "from io import BytesIO \n",
    "from zipfile import ZipFile"
   ]
  },
  {
   "cell_type": "markdown",
   "metadata": {
    "slideshow": {
     "slide_type": "skip"
    }
   },
   "source": [
    "**Note that** there is no need to run following codes till the Exploratory Analysis section.<br>\n",
    "There is a clean master dataframe to import in Exploratory Analysis section."
   ]
  },
  {
   "cell_type": "markdown",
   "metadata": {
    "slideshow": {
     "slide_type": "slide"
    }
   },
   "source": [
    "## DATA GATHERING"
   ]
  },
  {
   "cell_type": "code",
   "execution_count": 2,
   "metadata": {
    "slideshow": {
     "slide_type": "skip"
    }
   },
   "outputs": [
    {
     "data": {
      "text/plain": [
       "'C:\\\\Users\\\\uuresin\\\\Desktop\\\\MyGIT\\\\TRAINING\\\\Udacity-DAND-Communicate-Data-Findings\\\\notebooks'"
      ]
     },
     "execution_count": 2,
     "metadata": {},
     "output_type": "execute_result"
    }
   ],
   "source": [
    "#Checking the current working directory\n",
    "getcwd()"
   ]
  },
  {
   "cell_type": "markdown",
   "metadata": {
    "slideshow": {
     "slide_type": "subslide"
    }
   },
   "source": [
    "#### IMPORTANT!\n",
    "Related data is gathered from the following link in 2019/08/25<br>\n",
    "https://s3.amazonaws.com/baywheels-data/index.html<br>\n",
    "<br>\n",
    "Following image shows the webpage content when it's reached in 2019/08/25<br>\n",
    "Please check the image and the webpage to be sure whether the webpage content is changed.<br>\n",
    "If it's changed, you may need to modify the following codes.<br>\n",
    "\n",
    "**Contact:** uresinugur35@gmail.com"
   ]
  },
  {
   "cell_type": "markdown",
   "metadata": {
    "slideshow": {
     "slide_type": "slide"
    }
   },
   "source": [
    "![Webpage Content in 2019/08/25](webpage_content.png)"
   ]
  },
  {
   "cell_type": "code",
   "execution_count": 52,
   "metadata": {
    "slideshow": {
     "slide_type": "skip"
    }
   },
   "outputs": [],
   "source": [
    "#Creating the 'Data' folder in the current working directory\n",
    "makedirs('Data')\n",
    "chdir('Data')"
   ]
  },
  {
   "cell_type": "code",
   "execution_count": 32,
   "metadata": {
    "slideshow": {
     "slide_type": "skip"
    }
   },
   "outputs": [],
   "source": [
    "#Data Source Definitions\n",
    "url_17 = 'https://s3.amazonaws.com/baywheels-data/2017-fordgobike-tripdata.csv'\n",
    "\n",
    "url_head8 = 'https://s3.amazonaws.com/baywheels-data/2018'\n",
    "url_head9 = 'https://s3.amazonaws.com/baywheels-data/2019'\n",
    "\n",
    "url_tail_ford = '-fordgobike-tripdata.csv.zip'\n",
    "url_tail_bay = '-baywheels-tripdata.csv.zip'"
   ]
  },
  {
   "cell_type": "code",
   "execution_count": 40,
   "metadata": {
    "slideshow": {
     "slide_type": "skip"
    }
   },
   "outputs": [
    {
     "name": "stdout",
     "output_type": "stream",
     "text": [
      "Downloading the 2017 data is started, please wait!\n",
      "Downloading the 2017 data is completed!\n"
     ]
    }
   ],
   "source": [
    "#Getting the 2017 Data\n",
    "print('Downloading the 2017 data is started, please wait!')\n",
    "\n",
    "r = requests.get(url_17)\n",
    "with open('2017-fordgobike-tripdata.csv', mode='wb') as file: #wb:write binary\n",
    "    file.write(r.content)\n",
    "\n",
    "print('Downloading the 2017 data is completed!')"
   ]
  },
  {
   "cell_type": "code",
   "execution_count": 37,
   "metadata": {
    "slideshow": {
     "slide_type": "skip"
    }
   },
   "outputs": [
    {
     "name": "stdout",
     "output_type": "stream",
     "text": [
      "Downloading the 2018 data is started, please wait!\n",
      "Downloading the 2018 data is completed!\n"
     ]
    }
   ],
   "source": [
    "#Getting the 2018 Data\n",
    "print('Downloading the 2018 data is started, please wait!')\n",
    "\n",
    "for month in range(1,13):\n",
    "    mon_st = str(month)\n",
    "    mon_st0 = mon_st.zfill(2)\n",
    "    url_19 = url_head8 + mon_st0 + url_tail\n",
    "    r = requests.get(url_19)\n",
    "    z = zipfile.ZipFile(BytesIO(r.content))\n",
    "    z.extractall()\n",
    "    \n",
    "print('Downloading the 2018 data is completed!')"
   ]
  },
  {
   "cell_type": "code",
   "execution_count": 23,
   "metadata": {
    "slideshow": {
     "slide_type": "skip"
    }
   },
   "outputs": [
    {
     "name": "stdout",
     "output_type": "stream",
     "text": [
      "Downloading the 2019 Ford data is started, please wait!\n",
      "Downloading the 2019 Ford data is completed!\n"
     ]
    }
   ],
   "source": [
    "#Getting the 2019 Ford Data\n",
    "print('Downloading the 2019 Ford data is started, please wait!')\n",
    "\n",
    "for month in range(1,5):\n",
    "    mon_st = str(month)\n",
    "    mon_st0 = mon_st.zfill(2)\n",
    "    url_19 = url_head9 + mon_st0 + url_tail_ford\n",
    "    r = requests.get(url_19)\n",
    "    z = zipfile.ZipFile(BytesIO(r.content))\n",
    "    z.extractall()\n",
    "    \n",
    "print('Downloading the 2019 Ford data is completed!')"
   ]
  },
  {
   "cell_type": "code",
   "execution_count": 36,
   "metadata": {
    "slideshow": {
     "slide_type": "skip"
    }
   },
   "outputs": [
    {
     "name": "stdout",
     "output_type": "stream",
     "text": [
      "Downloading the 2019 Bay Wheels data is started, please wait!\n",
      "Downloading the 2019 Bay Wheels data is completed!\n"
     ]
    }
   ],
   "source": [
    "#Getting the 2019 Bay Wheels Data\n",
    "print('Downloading the 2019 Bay Wheels data is started, please wait!')\n",
    "\n",
    "for month in range(5,8):\n",
    "    mon_st = str(month)\n",
    "    mon_st0 = mon_st.zfill(2)\n",
    "    url_19 = url_head9 + mon_st0 + url_tail_bay\n",
    "    r = requests.get(url_19)\n",
    "    z = zipfile.ZipFile(BytesIO(r.content))\n",
    "    z.extractall()\n",
    "    \n",
    "print('Downloading the 2019 Bay Wheels data is completed!')"
   ]
  },
  {
   "cell_type": "code",
   "execution_count": 5,
   "metadata": {
    "slideshow": {
     "slide_type": "skip"
    }
   },
   "outputs": [
    {
     "data": {
      "text/plain": [
       "['201802-fordgobike-tripdata.csv',\n",
       " '201811-fordgobike-tripdata.csv',\n",
       " '201904-fordgobike-tripdata.csv',\n",
       " '201809-fordgobike-tripdata.csv',\n",
       " '.DS_Store',\n",
       " '2017-fordgobike-tripdata.csv',\n",
       " '201806-fordgobike-tripdata.csv',\n",
       " '201907-baywheels-tripdata.csv',\n",
       " '201903-fordgobike-tripdata.csv',\n",
       " 'image01.png',\n",
       " '201906-baywheels-tripdata.csv',\n",
       " 'image03.png',\n",
       " '201805-fordgobike-tripdata.csv',\n",
       " 'image02.png',\n",
       " 'image06.png',\n",
       " 'image07.png',\n",
       " '201812-fordgobike-tripdata.csv',\n",
       " '201801-fordgobike-tripdata.csv',\n",
       " 'image05.png',\n",
       " 'image04.png',\n",
       " '201905-baywheels-tripdata.csv',\n",
       " 'image10.png',\n",
       " 'image09.png',\n",
       " 'image08.png',\n",
       " '201901-fordgobike-tripdata.csv',\n",
       " '201807-fordgobike-tripdata.csv',\n",
       " '201808-fordgobike-tripdata.csv',\n",
       " '201810-fordgobike-tripdata.csv',\n",
       " '201803-fordgobike-tripdata.csv',\n",
       " '201804-fordgobike-tripdata.csv',\n",
       " '201902-fordgobike-tripdata.csv',\n",
       " 'image01_2.png']"
      ]
     },
     "execution_count": 5,
     "metadata": {},
     "output_type": "execute_result"
    }
   ],
   "source": [
    "#Listing the folder content\n",
    "listdir(getcwd())"
   ]
  },
  {
   "cell_type": "code",
   "execution_count": 4,
   "metadata": {
    "slideshow": {
     "slide_type": "skip"
    }
   },
   "outputs": [],
   "source": [
    "#Only-for repetitive usage!\n",
    "chdir('/Users/UGUR/Desktop/mycodes/training/Udacity_DAND/project5/Data')"
   ]
  },
  {
   "cell_type": "markdown",
   "metadata": {
    "slideshow": {
     "slide_type": "skip"
    }
   },
   "source": [
    "It seems every .csv files are imported!<br>\n",
    "Let's merge these dataframes into an master dataframe."
   ]
  },
  {
   "cell_type": "code",
   "execution_count": 6,
   "metadata": {
    "slideshow": {
     "slide_type": "skip"
    }
   },
   "outputs": [
    {
     "name": "stdout",
     "output_type": "stream",
     "text": [
      "Master data frame cretion is started, please wait!\n"
     ]
    },
    {
     "name": "stderr",
     "output_type": "stream",
     "text": [
      "/Users/UGUR/anaconda3/lib/python3.7/site-packages/ipykernel_launcher.py:7: FutureWarning: Sorting because non-concatenation axis is not aligned. A future version\n",
      "of pandas will change to not sort by default.\n",
      "\n",
      "To accept the future behavior, pass 'sort=False'.\n",
      "\n",
      "To retain the current behavior and silence the warning, pass 'sort=True'.\n",
      "\n",
      "  import sys\n",
      "/Users/UGUR/anaconda3/lib/python3.7/site-packages/IPython/core/interactiveshell.py:3049: DtypeWarning: Columns (15,16) have mixed types. Specify dtype option on import or set low_memory=False.\n",
      "  interactivity=interactivity, compiler=compiler, result=result)\n",
      "/Users/UGUR/anaconda3/lib/python3.7/site-packages/IPython/core/interactiveshell.py:3049: DtypeWarning: Columns (16) have mixed types. Specify dtype option on import or set low_memory=False.\n",
      "  interactivity=interactivity, compiler=compiler, result=result)\n"
     ]
    },
    {
     "name": "stdout",
     "output_type": "stream",
     "text": [
      "Master data frame cretion is completed!\n"
     ]
    }
   ],
   "source": [
    "#Master dataframe creation\n",
    "df = []\n",
    "print('Master data frame cretion is started, please wait!')\n",
    "\n",
    "for file_name in listdir(getcwd()):\n",
    "    df.append(pd.read_csv(file_name))\n",
    "    master_df = pd.concat(df)\n",
    "\n",
    "print('Master data frame cretion is completed!')"
   ]
  },
  {
   "cell_type": "markdown",
   "metadata": {
    "slideshow": {
     "slide_type": "skip"
    }
   },
   "source": [
    "**Note that** here 'master data frame' means combined data frames."
   ]
  },
  {
   "cell_type": "markdown",
   "metadata": {
    "slideshow": {
     "slide_type": "skip"
    }
   },
   "source": [
    "## DATA ASSESSMENT & CLEANING"
   ]
  },
  {
   "cell_type": "markdown",
   "metadata": {
    "slideshow": {
     "slide_type": "skip"
    }
   },
   "source": [
    "Now, let's check the master dataframe and decide whether cleaning operations is needed!"
   ]
  },
  {
   "cell_type": "code",
   "execution_count": 34,
   "metadata": {
    "slideshow": {
     "slide_type": "skip"
    }
   },
   "outputs": [
    {
     "data": {
      "text/plain": [
       "(3828132, 19)"
      ]
     },
     "execution_count": 34,
     "metadata": {},
     "output_type": "execute_result"
    }
   ],
   "source": [
    "master_df.shape"
   ]
  },
  {
   "cell_type": "code",
   "execution_count": 12,
   "metadata": {
    "slideshow": {
     "slide_type": "skip"
    }
   },
   "outputs": [
    {
     "name": "stdout",
     "output_type": "stream",
     "text": [
      "<class 'pandas.core.frame.DataFrame'>\n",
      "Int64Index: 3828132 entries, 0 to 183411\n",
      "Data columns (total 19 columns):\n",
      "Unnamed: 0                 object\n",
      "Unnamed: 16                object\n",
      "bike_id                    float64\n",
      "bike_share_for_all_trip    object\n",
      "duration_sec               float64\n",
      "end_station_id             float64\n",
      "end_station_latitude       float64\n",
      "end_station_longitude      float64\n",
      "end_station_name           object\n",
      "end_time                   object\n",
      "member_birth_year          float64\n",
      "member_gender              object\n",
      "rental_access_method       object\n",
      "start_station_id           float64\n",
      "start_station_latitude     float64\n",
      "start_station_longitude    float64\n",
      "start_station_name         object\n",
      "start_time                 object\n",
      "user_type                  object\n",
      "dtypes: float64(9), object(10)\n",
      "memory usage: 584.1+ MB\n"
     ]
    }
   ],
   "source": [
    "master_df.info()"
   ]
  },
  {
   "cell_type": "code",
   "execution_count": 35,
   "metadata": {
    "slideshow": {
     "slide_type": "skip"
    }
   },
   "outputs": [
    {
     "data": {
      "text/html": [
       "<div>\n",
       "<style scoped>\n",
       "    .dataframe tbody tr th:only-of-type {\n",
       "        vertical-align: middle;\n",
       "    }\n",
       "\n",
       "    .dataframe tbody tr th {\n",
       "        vertical-align: top;\n",
       "    }\n",
       "\n",
       "    .dataframe thead th {\n",
       "        text-align: right;\n",
       "    }\n",
       "</style>\n",
       "<table border=\"1\" class=\"dataframe\">\n",
       "  <thead>\n",
       "    <tr style=\"text-align: right;\">\n",
       "      <th></th>\n",
       "      <th>Unnamed: 0</th>\n",
       "      <th>Unnamed: 16</th>\n",
       "      <th>bike_id</th>\n",
       "      <th>bike_share_for_all_trip</th>\n",
       "      <th>duration_sec</th>\n",
       "      <th>end_station_id</th>\n",
       "      <th>end_station_latitude</th>\n",
       "      <th>end_station_longitude</th>\n",
       "      <th>end_station_name</th>\n",
       "      <th>end_time</th>\n",
       "      <th>member_birth_year</th>\n",
       "      <th>member_gender</th>\n",
       "      <th>rental_access_method</th>\n",
       "      <th>start_station_id</th>\n",
       "      <th>start_station_latitude</th>\n",
       "      <th>start_station_longitude</th>\n",
       "      <th>start_station_name</th>\n",
       "      <th>start_time</th>\n",
       "      <th>user_type</th>\n",
       "    </tr>\n",
       "  </thead>\n",
       "  <tbody>\n",
       "    <tr>\n",
       "      <th>2330945</th>\n",
       "      <td>NaN</td>\n",
       "      <td>NaN</td>\n",
       "      <td>763.0</td>\n",
       "      <td>No</td>\n",
       "      <td>375.0</td>\n",
       "      <td>5.0</td>\n",
       "      <td>37.783899</td>\n",
       "      <td>-122.408445</td>\n",
       "      <td>Powell St BART Station (Market St at 5th St)</td>\n",
       "      <td>2018-12-03 17:36:45.2930</td>\n",
       "      <td>1990.0</td>\n",
       "      <td>Male</td>\n",
       "      <td>NaN</td>\n",
       "      <td>58.0</td>\n",
       "      <td>37.776619</td>\n",
       "      <td>-122.417385</td>\n",
       "      <td>Market St at 10th St</td>\n",
       "      <td>2018-12-03 17:30:29.9220</td>\n",
       "      <td>Subscriber</td>\n",
       "    </tr>\n",
       "    <tr>\n",
       "      <th>2232590</th>\n",
       "      <td>NaN</td>\n",
       "      <td>NaN</td>\n",
       "      <td>4958.0</td>\n",
       "      <td>No</td>\n",
       "      <td>836.0</td>\n",
       "      <td>5.0</td>\n",
       "      <td>37.783899</td>\n",
       "      <td>-122.408445</td>\n",
       "      <td>Powell St BART Station (Market St at 5th St)</td>\n",
       "      <td>2018-12-22 18:30:23.4720</td>\n",
       "      <td>1989.0</td>\n",
       "      <td>Male</td>\n",
       "      <td>NaN</td>\n",
       "      <td>16.0</td>\n",
       "      <td>37.794130</td>\n",
       "      <td>-122.394430</td>\n",
       "      <td>Steuart St at Market St</td>\n",
       "      <td>2018-12-22 18:16:26.9740</td>\n",
       "      <td>Subscriber</td>\n",
       "    </tr>\n",
       "    <tr>\n",
       "      <th>567309</th>\n",
       "      <td>NaN</td>\n",
       "      <td>NaN</td>\n",
       "      <td>2282.0</td>\n",
       "      <td>No</td>\n",
       "      <td>934.0</td>\n",
       "      <td>16.0</td>\n",
       "      <td>37.794130</td>\n",
       "      <td>-122.394430</td>\n",
       "      <td>Steuart St at Market St</td>\n",
       "      <td>2018-09-17 17:36:39.2290</td>\n",
       "      <td>1962.0</td>\n",
       "      <td>Female</td>\n",
       "      <td>NaN</td>\n",
       "      <td>104.0</td>\n",
       "      <td>37.767045</td>\n",
       "      <td>-122.390833</td>\n",
       "      <td>4th St at 16th St</td>\n",
       "      <td>2018-09-17 17:21:04.4060</td>\n",
       "      <td>Subscriber</td>\n",
       "    </tr>\n",
       "    <tr>\n",
       "      <th>1490015</th>\n",
       "      <td>NaN</td>\n",
       "      <td>NaN</td>\n",
       "      <td>1459.0</td>\n",
       "      <td>No</td>\n",
       "      <td>876.0</td>\n",
       "      <td>90.0</td>\n",
       "      <td>37.771058</td>\n",
       "      <td>-122.402717</td>\n",
       "      <td>Townsend St at 7th St</td>\n",
       "      <td>2019-07-11 20:30:16.6390</td>\n",
       "      <td>1993.0</td>\n",
       "      <td>Male</td>\n",
       "      <td>NaN</td>\n",
       "      <td>16.0</td>\n",
       "      <td>37.794130</td>\n",
       "      <td>-122.394430</td>\n",
       "      <td>Steuart St at Market St</td>\n",
       "      <td>2019-07-11 20:15:39.6740</td>\n",
       "      <td>Subscriber</td>\n",
       "    </tr>\n",
       "    <tr>\n",
       "      <th>548880</th>\n",
       "      <td>NaN</td>\n",
       "      <td>NaN</td>\n",
       "      <td>4023.0</td>\n",
       "      <td>No</td>\n",
       "      <td>670.0</td>\n",
       "      <td>67.0</td>\n",
       "      <td>37.776639</td>\n",
       "      <td>-122.395526</td>\n",
       "      <td>San Francisco Caltrain Station 2  (Townsend St...</td>\n",
       "      <td>2018-09-20 07:50:58.9770</td>\n",
       "      <td>1990.0</td>\n",
       "      <td>Female</td>\n",
       "      <td>NaN</td>\n",
       "      <td>85.0</td>\n",
       "      <td>37.770083</td>\n",
       "      <td>-122.429156</td>\n",
       "      <td>Church St at Duboce Ave</td>\n",
       "      <td>2018-09-20 07:39:48.9160</td>\n",
       "      <td>Subscriber</td>\n",
       "    </tr>\n",
       "    <tr>\n",
       "      <th>338894</th>\n",
       "      <td>NaN</td>\n",
       "      <td>NaN</td>\n",
       "      <td>2753.0</td>\n",
       "      <td>No</td>\n",
       "      <td>396.0</td>\n",
       "      <td>58.0</td>\n",
       "      <td>37.776619</td>\n",
       "      <td>-122.417385</td>\n",
       "      <td>Market St at 10th St</td>\n",
       "      <td>2019-04-15 18:18:30.9280</td>\n",
       "      <td>1992.0</td>\n",
       "      <td>Male</td>\n",
       "      <td>NaN</td>\n",
       "      <td>5.0</td>\n",
       "      <td>37.783899</td>\n",
       "      <td>-122.408445</td>\n",
       "      <td>Powell St BART Station (Market St at 5th St)</td>\n",
       "      <td>2019-04-15 18:11:54.5300</td>\n",
       "      <td>Customer</td>\n",
       "    </tr>\n",
       "    <tr>\n",
       "      <th>3526514</th>\n",
       "      <td>NaN</td>\n",
       "      <td>NaN</td>\n",
       "      <td>556.0</td>\n",
       "      <td>No</td>\n",
       "      <td>387.0</td>\n",
       "      <td>214.0</td>\n",
       "      <td>37.823321</td>\n",
       "      <td>-122.275733</td>\n",
       "      <td>Market St at Brockhurst St</td>\n",
       "      <td>2018-04-28 00:26:47.3430</td>\n",
       "      <td>1984.0</td>\n",
       "      <td>Male</td>\n",
       "      <td>NaN</td>\n",
       "      <td>176.0</td>\n",
       "      <td>37.828410</td>\n",
       "      <td>-122.266315</td>\n",
       "      <td>MacArthur BART Station</td>\n",
       "      <td>2018-04-28 00:20:20.2580</td>\n",
       "      <td>Subscriber</td>\n",
       "    </tr>\n",
       "    <tr>\n",
       "      <th>2647312</th>\n",
       "      <td>NaN</td>\n",
       "      <td>NaN</td>\n",
       "      <td>336.0</td>\n",
       "      <td>No</td>\n",
       "      <td>372.0</td>\n",
       "      <td>58.0</td>\n",
       "      <td>37.776619</td>\n",
       "      <td>-122.417385</td>\n",
       "      <td>Market St at 10th St</td>\n",
       "      <td>2019-01-28 18:35:55.1960</td>\n",
       "      <td>1993.0</td>\n",
       "      <td>Female</td>\n",
       "      <td>NaN</td>\n",
       "      <td>5.0</td>\n",
       "      <td>37.783899</td>\n",
       "      <td>-122.408445</td>\n",
       "      <td>Powell St BART Station (Market St at 5th St)</td>\n",
       "      <td>2019-01-28 18:29:42.4560</td>\n",
       "      <td>Subscriber</td>\n",
       "    </tr>\n",
       "    <tr>\n",
       "      <th>3184478</th>\n",
       "      <td>NaN</td>\n",
       "      <td>NaN</td>\n",
       "      <td>158.0</td>\n",
       "      <td>No</td>\n",
       "      <td>481.0</td>\n",
       "      <td>141.0</td>\n",
       "      <td>37.747998</td>\n",
       "      <td>-122.420219</td>\n",
       "      <td>Valencia St at Cesar Chavez St</td>\n",
       "      <td>2018-08-03 09:31:16.6610</td>\n",
       "      <td>1986.0</td>\n",
       "      <td>Male</td>\n",
       "      <td>NaN</td>\n",
       "      <td>121.0</td>\n",
       "      <td>37.759210</td>\n",
       "      <td>-122.421339</td>\n",
       "      <td>Mission Playground</td>\n",
       "      <td>2018-08-03 09:23:15.6540</td>\n",
       "      <td>Subscriber</td>\n",
       "    </tr>\n",
       "    <tr>\n",
       "      <th>330240</th>\n",
       "      <td>NaN</td>\n",
       "      <td>NaN</td>\n",
       "      <td>3211.0</td>\n",
       "      <td>No</td>\n",
       "      <td>533.0</td>\n",
       "      <td>90.0</td>\n",
       "      <td>37.771058</td>\n",
       "      <td>-122.402717</td>\n",
       "      <td>Townsend St at 7th St</td>\n",
       "      <td>2019-04-17 07:57:37.5700</td>\n",
       "      <td>1968.0</td>\n",
       "      <td>Male</td>\n",
       "      <td>NaN</td>\n",
       "      <td>28.0</td>\n",
       "      <td>37.787168</td>\n",
       "      <td>-122.388098</td>\n",
       "      <td>The Embarcadero at Bryant St</td>\n",
       "      <td>2019-04-17 07:48:43.6020</td>\n",
       "      <td>Subscriber</td>\n",
       "    </tr>\n",
       "  </tbody>\n",
       "</table>\n",
       "</div>"
      ],
      "text/plain": [
       "         Unnamed: 0 Unnamed: 16  bike_id bike_share_for_all_trip  \\\n",
       "2330945         NaN         NaN    763.0                      No   \n",
       "2232590         NaN         NaN   4958.0                      No   \n",
       "567309          NaN         NaN   2282.0                      No   \n",
       "1490015         NaN         NaN   1459.0                      No   \n",
       "548880          NaN         NaN   4023.0                      No   \n",
       "338894          NaN         NaN   2753.0                      No   \n",
       "3526514         NaN         NaN    556.0                      No   \n",
       "2647312         NaN         NaN    336.0                      No   \n",
       "3184478         NaN         NaN    158.0                      No   \n",
       "330240          NaN         NaN   3211.0                      No   \n",
       "\n",
       "         duration_sec  end_station_id  end_station_latitude  \\\n",
       "2330945         375.0             5.0             37.783899   \n",
       "2232590         836.0             5.0             37.783899   \n",
       "567309          934.0            16.0             37.794130   \n",
       "1490015         876.0            90.0             37.771058   \n",
       "548880          670.0            67.0             37.776639   \n",
       "338894          396.0            58.0             37.776619   \n",
       "3526514         387.0           214.0             37.823321   \n",
       "2647312         372.0            58.0             37.776619   \n",
       "3184478         481.0           141.0             37.747998   \n",
       "330240          533.0            90.0             37.771058   \n",
       "\n",
       "         end_station_longitude  \\\n",
       "2330945            -122.408445   \n",
       "2232590            -122.408445   \n",
       "567309             -122.394430   \n",
       "1490015            -122.402717   \n",
       "548880             -122.395526   \n",
       "338894             -122.417385   \n",
       "3526514            -122.275733   \n",
       "2647312            -122.417385   \n",
       "3184478            -122.420219   \n",
       "330240             -122.402717   \n",
       "\n",
       "                                          end_station_name  \\\n",
       "2330945       Powell St BART Station (Market St at 5th St)   \n",
       "2232590       Powell St BART Station (Market St at 5th St)   \n",
       "567309                             Steuart St at Market St   \n",
       "1490015                              Townsend St at 7th St   \n",
       "548880   San Francisco Caltrain Station 2  (Townsend St...   \n",
       "338894                                Market St at 10th St   \n",
       "3526514                         Market St at Brockhurst St   \n",
       "2647312                               Market St at 10th St   \n",
       "3184478                     Valencia St at Cesar Chavez St   \n",
       "330240                               Townsend St at 7th St   \n",
       "\n",
       "                         end_time  member_birth_year member_gender  \\\n",
       "2330945  2018-12-03 17:36:45.2930             1990.0          Male   \n",
       "2232590  2018-12-22 18:30:23.4720             1989.0          Male   \n",
       "567309   2018-09-17 17:36:39.2290             1962.0        Female   \n",
       "1490015  2019-07-11 20:30:16.6390             1993.0          Male   \n",
       "548880   2018-09-20 07:50:58.9770             1990.0        Female   \n",
       "338894   2019-04-15 18:18:30.9280             1992.0          Male   \n",
       "3526514  2018-04-28 00:26:47.3430             1984.0          Male   \n",
       "2647312  2019-01-28 18:35:55.1960             1993.0        Female   \n",
       "3184478  2018-08-03 09:31:16.6610             1986.0          Male   \n",
       "330240   2019-04-17 07:57:37.5700             1968.0          Male   \n",
       "\n",
       "        rental_access_method  start_station_id  start_station_latitude  \\\n",
       "2330945                  NaN              58.0               37.776619   \n",
       "2232590                  NaN              16.0               37.794130   \n",
       "567309                   NaN             104.0               37.767045   \n",
       "1490015                  NaN              16.0               37.794130   \n",
       "548880                   NaN              85.0               37.770083   \n",
       "338894                   NaN               5.0               37.783899   \n",
       "3526514                  NaN             176.0               37.828410   \n",
       "2647312                  NaN               5.0               37.783899   \n",
       "3184478                  NaN             121.0               37.759210   \n",
       "330240                   NaN              28.0               37.787168   \n",
       "\n",
       "         start_station_longitude  \\\n",
       "2330945              -122.417385   \n",
       "2232590              -122.394430   \n",
       "567309               -122.390833   \n",
       "1490015              -122.394430   \n",
       "548880               -122.429156   \n",
       "338894               -122.408445   \n",
       "3526514              -122.266315   \n",
       "2647312              -122.408445   \n",
       "3184478              -122.421339   \n",
       "330240               -122.388098   \n",
       "\n",
       "                                   start_station_name  \\\n",
       "2330945                          Market St at 10th St   \n",
       "2232590                       Steuart St at Market St   \n",
       "567309                              4th St at 16th St   \n",
       "1490015                       Steuart St at Market St   \n",
       "548880                        Church St at Duboce Ave   \n",
       "338894   Powell St BART Station (Market St at 5th St)   \n",
       "3526514                        MacArthur BART Station   \n",
       "2647312  Powell St BART Station (Market St at 5th St)   \n",
       "3184478                            Mission Playground   \n",
       "330240                   The Embarcadero at Bryant St   \n",
       "\n",
       "                       start_time   user_type  \n",
       "2330945  2018-12-03 17:30:29.9220  Subscriber  \n",
       "2232590  2018-12-22 18:16:26.9740  Subscriber  \n",
       "567309   2018-09-17 17:21:04.4060  Subscriber  \n",
       "1490015  2019-07-11 20:15:39.6740  Subscriber  \n",
       "548880   2018-09-20 07:39:48.9160  Subscriber  \n",
       "338894   2019-04-15 18:11:54.5300    Customer  \n",
       "3526514  2018-04-28 00:20:20.2580  Subscriber  \n",
       "2647312  2019-01-28 18:29:42.4560  Subscriber  \n",
       "3184478  2018-08-03 09:23:15.6540  Subscriber  \n",
       "330240   2019-04-17 07:48:43.6020  Subscriber  "
      ]
     },
     "execution_count": 35,
     "metadata": {},
     "output_type": "execute_result"
    }
   ],
   "source": [
    "master_df.sample(10)"
   ]
  },
  {
   "cell_type": "markdown",
   "metadata": {
    "slideshow": {
     "slide_type": "skip"
    }
   },
   "source": [
    "At this point also **'visual check'** is conducted outside via Numbers!"
   ]
  },
  {
   "cell_type": "markdown",
   "metadata": {
    "slideshow": {
     "slide_type": "skip"
    }
   },
   "source": [
    "The biggest dataframe is '2017-fordgobike-tripdata.csv'<br>\n",
    "It contains 519,702 rows and the following columns (15):\n",
    "1. duration_sec\n",
    "2. start_time\n",
    "3. end_time\n",
    "4. start_station_id\n",
    "5. start_station_name\n",
    "6. start_station_latitude\n",
    "7. start_station_longitude\n",
    "8. end_station_id\n",
    "9. end_station_name\n",
    "10. end_station_latitude\n",
    "11. end_station_longitude\n",
    "12. bike_id\n",
    "13. user_type\n",
    "14. member_birth_year\n",
    "15. member_gender\n",
    "\n",
    "The dataframe **'201801-fordgobike-tripdata.csv'** contains 94,804 rows and an additional column 'bike_share_for_all_trip'<br>\n",
    "According to the 20 sample row from the master dataframe given above, it seems that this column ('bike_share_for_all_trip') is also avaiable in 2019 data as well.<br>\n",
    "\n",
    "In **'201905-baywheels-tripdata.csv'** dataframe, there are 182,165 rows and same 16 colums.<br>"
   ]
  },
  {
   "cell_type": "code",
   "execution_count": 14,
   "metadata": {
    "slideshow": {
     "slide_type": "skip"
    }
   },
   "outputs": [
    {
     "data": {
      "text/plain": [
       "0"
      ]
     },
     "execution_count": 14,
     "metadata": {},
     "output_type": "execute_result"
    }
   ],
   "source": [
    "#Checking the duplicates\n",
    "sum(master_df.duplicated()) #returns 0 if there is no duplicate"
   ]
  },
  {
   "cell_type": "code",
   "execution_count": 15,
   "metadata": {
    "slideshow": {
     "slide_type": "skip"
    }
   },
   "outputs": [],
   "source": [
    "df = master_df.copy() #to create a spare in case of disrupting the data accidentally"
   ]
  },
  {
   "cell_type": "markdown",
   "metadata": {
    "slideshow": {
     "slide_type": "skip"
    }
   },
   "source": [
    "**Define-01:**\n",
    "In the sample 20 rows above, there 3 extra columns in which all values are NaN as follows:\n",
    "* Unnamed: 0\n",
    "* Unnamed: 16\n",
    "* rental_access_method\n",
    "\n",
    "Let's drop those columns."
   ]
  },
  {
   "cell_type": "code",
   "execution_count": 16,
   "metadata": {
    "slideshow": {
     "slide_type": "skip"
    }
   },
   "outputs": [],
   "source": [
    "#CODE-01\n",
    "df.drop(['Unnamed: 0','Unnamed: 16', 'rental_access_method'], axis=1, inplace=True)"
   ]
  },
  {
   "cell_type": "code",
   "execution_count": 17,
   "metadata": {
    "slideshow": {
     "slide_type": "skip"
    }
   },
   "outputs": [
    {
     "data": {
      "text/html": [
       "<div>\n",
       "<style scoped>\n",
       "    .dataframe tbody tr th:only-of-type {\n",
       "        vertical-align: middle;\n",
       "    }\n",
       "\n",
       "    .dataframe tbody tr th {\n",
       "        vertical-align: top;\n",
       "    }\n",
       "\n",
       "    .dataframe thead th {\n",
       "        text-align: right;\n",
       "    }\n",
       "</style>\n",
       "<table border=\"1\" class=\"dataframe\">\n",
       "  <thead>\n",
       "    <tr style=\"text-align: right;\">\n",
       "      <th></th>\n",
       "      <th>bike_id</th>\n",
       "      <th>bike_share_for_all_trip</th>\n",
       "      <th>duration_sec</th>\n",
       "      <th>end_station_id</th>\n",
       "      <th>end_station_latitude</th>\n",
       "      <th>end_station_longitude</th>\n",
       "      <th>end_station_name</th>\n",
       "      <th>end_time</th>\n",
       "      <th>member_birth_year</th>\n",
       "      <th>member_gender</th>\n",
       "      <th>start_station_id</th>\n",
       "      <th>start_station_latitude</th>\n",
       "      <th>start_station_longitude</th>\n",
       "      <th>start_station_name</th>\n",
       "      <th>start_time</th>\n",
       "      <th>user_type</th>\n",
       "    </tr>\n",
       "  </thead>\n",
       "  <tbody>\n",
       "    <tr>\n",
       "      <th>0</th>\n",
       "      <td>1035.0</td>\n",
       "      <td>No</td>\n",
       "      <td>598.0</td>\n",
       "      <td>114.0</td>\n",
       "      <td>37.764478</td>\n",
       "      <td>-122.40257</td>\n",
       "      <td>Rhode Island St at 17th St</td>\n",
       "      <td>2018-03-01 00:09:45.1870</td>\n",
       "      <td>1988.0</td>\n",
       "      <td>Male</td>\n",
       "      <td>284.0</td>\n",
       "      <td>37.784872</td>\n",
       "      <td>-122.400876</td>\n",
       "      <td>Yerba Buena Center for the Arts (Howard St at ...</td>\n",
       "      <td>2018-02-28 23:59:47.0970</td>\n",
       "      <td>Subscriber</td>\n",
       "    </tr>\n",
       "  </tbody>\n",
       "</table>\n",
       "</div>"
      ],
      "text/plain": [
       "   bike_id bike_share_for_all_trip  duration_sec  end_station_id  \\\n",
       "0   1035.0                      No         598.0           114.0   \n",
       "\n",
       "   end_station_latitude  end_station_longitude            end_station_name  \\\n",
       "0             37.764478             -122.40257  Rhode Island St at 17th St   \n",
       "\n",
       "                   end_time  member_birth_year member_gender  \\\n",
       "0  2018-03-01 00:09:45.1870             1988.0          Male   \n",
       "\n",
       "   start_station_id  start_station_latitude  start_station_longitude  \\\n",
       "0             284.0               37.784872              -122.400876   \n",
       "\n",
       "                                  start_station_name  \\\n",
       "0  Yerba Buena Center for the Arts (Howard St at ...   \n",
       "\n",
       "                 start_time   user_type  \n",
       "0  2018-02-28 23:59:47.0970  Subscriber  "
      ]
     },
     "execution_count": 17,
     "metadata": {},
     "output_type": "execute_result"
    }
   ],
   "source": [
    "#TEST-01\n",
    "df.head(1)"
   ]
  },
  {
   "cell_type": "markdown",
   "metadata": {
    "slideshow": {
     "slide_type": "skip"
    }
   },
   "source": [
    "**Define-02:** 'start_time' and 'end_time' columns should be converted to datetime and they should be separated."
   ]
  },
  {
   "cell_type": "code",
   "execution_count": 18,
   "metadata": {
    "slideshow": {
     "slide_type": "skip"
    }
   },
   "outputs": [],
   "source": [
    "#CODE-02\n",
    "#Converting the objects into datetime\n",
    "df['start_time'] = pd.to_datetime(df['start_time'])\n",
    "df['end_time'] = pd.to_datetime(df['end_time'])"
   ]
  },
  {
   "cell_type": "code",
   "execution_count": 19,
   "metadata": {
    "slideshow": {
     "slide_type": "skip"
    }
   },
   "outputs": [],
   "source": [
    "#Reference: https://www.geeksforgeeks.org/python-pandas-series-dt-date/\n",
    "df['start_time_date']=df['start_time'].dt.date\n",
    "df['end_time_date']=df['end_time'].dt.date"
   ]
  },
  {
   "cell_type": "code",
   "execution_count": 20,
   "metadata": {
    "slideshow": {
     "slide_type": "skip"
    }
   },
   "outputs": [],
   "source": [
    "df['start_time_year_month']=df['start_time'].map(lambda x: x.strftime('%Y-%m'))\n",
    "df['end_time_year_month']=df['end_time'].map(lambda x: x.strftime('%Y-%m'))"
   ]
  },
  {
   "cell_type": "code",
   "execution_count": 21,
   "metadata": {
    "slideshow": {
     "slide_type": "skip"
    }
   },
   "outputs": [],
   "source": [
    "df['start_time_year_month_combined'] = df['start_time'].dt.strftime('%y' + '-' + '%m')"
   ]
  },
  {
   "cell_type": "code",
   "execution_count": 22,
   "metadata": {
    "slideshow": {
     "slide_type": "skip"
    }
   },
   "outputs": [],
   "source": [
    "df['start_time_year']=df['start_time'].dt.year.astype(int)\n",
    "df['end_time_year']=df['end_time'].dt.year.astype(int)"
   ]
  },
  {
   "cell_type": "code",
   "execution_count": 23,
   "metadata": {
    "slideshow": {
     "slide_type": "skip"
    }
   },
   "outputs": [],
   "source": [
    "df['start_time_month']=df['start_time'].dt.month.astype(int)\n",
    "df['end_time_month']=df['end_time'].dt.month.astype(int)"
   ]
  },
  {
   "cell_type": "code",
   "execution_count": 24,
   "metadata": {
    "slideshow": {
     "slide_type": "skip"
    }
   },
   "outputs": [],
   "source": [
    "df['start_time_hour_minute']=df['start_time'].map(lambda x: x.strftime('%H-%m'))\n",
    "df['end_time_hour_minute']=df['end_time'].map(lambda x: x.strftime('%H-%m'))"
   ]
  },
  {
   "cell_type": "code",
   "execution_count": 25,
   "metadata": {
    "slideshow": {
     "slide_type": "skip"
    }
   },
   "outputs": [],
   "source": [
    "df['start_time_hour']=df['start_time'].dt.hour\n",
    "df['end_time_hour']=df['end_time'].dt.hour"
   ]
  },
  {
   "cell_type": "code",
   "execution_count": 26,
   "metadata": {
    "slideshow": {
     "slide_type": "skip"
    }
   },
   "outputs": [],
   "source": [
    "df['start_time_weekday']=df['start_time'].dt.weekday_name\n",
    "df['end_time_weekday']=df['end_time'].dt.weekday_name"
   ]
  },
  {
   "cell_type": "code",
   "execution_count": 27,
   "metadata": {
    "slideshow": {
     "slide_type": "skip"
    }
   },
   "outputs": [
    {
     "data": {
      "text/html": [
       "<div>\n",
       "<style scoped>\n",
       "    .dataframe tbody tr th:only-of-type {\n",
       "        vertical-align: middle;\n",
       "    }\n",
       "\n",
       "    .dataframe tbody tr th {\n",
       "        vertical-align: top;\n",
       "    }\n",
       "\n",
       "    .dataframe thead th {\n",
       "        text-align: right;\n",
       "    }\n",
       "</style>\n",
       "<table border=\"1\" class=\"dataframe\">\n",
       "  <thead>\n",
       "    <tr style=\"text-align: right;\">\n",
       "      <th></th>\n",
       "      <th>bike_id</th>\n",
       "      <th>bike_share_for_all_trip</th>\n",
       "      <th>duration_sec</th>\n",
       "      <th>end_station_id</th>\n",
       "      <th>end_station_latitude</th>\n",
       "      <th>end_station_longitude</th>\n",
       "      <th>end_station_name</th>\n",
       "      <th>end_time</th>\n",
       "      <th>member_birth_year</th>\n",
       "      <th>member_gender</th>\n",
       "      <th>...</th>\n",
       "      <th>start_time_year</th>\n",
       "      <th>end_time_year</th>\n",
       "      <th>start_time_month</th>\n",
       "      <th>end_time_month</th>\n",
       "      <th>start_time_hour_minute</th>\n",
       "      <th>end_time_hour_minute</th>\n",
       "      <th>start_time_hour</th>\n",
       "      <th>end_time_hour</th>\n",
       "      <th>start_time_weekday</th>\n",
       "      <th>end_time_weekday</th>\n",
       "    </tr>\n",
       "  </thead>\n",
       "  <tbody>\n",
       "    <tr>\n",
       "      <th>0</th>\n",
       "      <td>1035.0</td>\n",
       "      <td>No</td>\n",
       "      <td>598.0</td>\n",
       "      <td>114.0</td>\n",
       "      <td>37.764478</td>\n",
       "      <td>-122.40257</td>\n",
       "      <td>Rhode Island St at 17th St</td>\n",
       "      <td>2018-03-01 00:09:45.187</td>\n",
       "      <td>1988.0</td>\n",
       "      <td>Male</td>\n",
       "      <td>...</td>\n",
       "      <td>2018</td>\n",
       "      <td>2018</td>\n",
       "      <td>2</td>\n",
       "      <td>3</td>\n",
       "      <td>23-02</td>\n",
       "      <td>00-03</td>\n",
       "      <td>23</td>\n",
       "      <td>0</td>\n",
       "      <td>Wednesday</td>\n",
       "      <td>Thursday</td>\n",
       "    </tr>\n",
       "  </tbody>\n",
       "</table>\n",
       "<p>1 rows × 31 columns</p>\n",
       "</div>"
      ],
      "text/plain": [
       "   bike_id bike_share_for_all_trip  duration_sec  end_station_id  \\\n",
       "0   1035.0                      No         598.0           114.0   \n",
       "\n",
       "   end_station_latitude  end_station_longitude            end_station_name  \\\n",
       "0             37.764478             -122.40257  Rhode Island St at 17th St   \n",
       "\n",
       "                 end_time  member_birth_year member_gender  ...  \\\n",
       "0 2018-03-01 00:09:45.187             1988.0          Male  ...   \n",
       "\n",
       "   start_time_year  end_time_year  start_time_month end_time_month  \\\n",
       "0             2018           2018                 2              3   \n",
       "\n",
       "  start_time_hour_minute end_time_hour_minute start_time_hour end_time_hour  \\\n",
       "0                  23-02                00-03              23             0   \n",
       "\n",
       "  start_time_weekday end_time_weekday  \n",
       "0          Wednesday         Thursday  \n",
       "\n",
       "[1 rows x 31 columns]"
      ]
     },
     "execution_count": 27,
     "metadata": {},
     "output_type": "execute_result"
    }
   ],
   "source": [
    "#TEST-02\n",
    "df.head(1)"
   ]
  },
  {
   "cell_type": "markdown",
   "metadata": {
    "slideshow": {
     "slide_type": "skip"
    }
   },
   "source": [
    "**Define-03:** Following columns can be converted to integers.\n",
    "1. bike_id\n",
    "2. duration_sec\n",
    "3. start_station_id\n",
    "4. end_station_id\n",
    "5. member_birth_year"
   ]
  },
  {
   "cell_type": "code",
   "execution_count": 28,
   "metadata": {
    "slideshow": {
     "slide_type": "skip"
    }
   },
   "outputs": [],
   "source": [
    "#CODE-03\n",
    "to_int = ['bike_id', 'duration_sec', 'start_station_id', 'end_station_id', 'member_birth_year']\n",
    "df = df.fillna(0)\n",
    "df[to_int]=df[to_int].astype(int)"
   ]
  },
  {
   "cell_type": "code",
   "execution_count": 29,
   "metadata": {
    "slideshow": {
     "slide_type": "skip"
    }
   },
   "outputs": [
    {
     "name": "stdout",
     "output_type": "stream",
     "text": [
      "<class 'pandas.core.frame.DataFrame'>\n",
      "Int64Index: 3828132 entries, 0 to 183411\n",
      "Data columns (total 31 columns):\n",
      "bike_id                           int64\n",
      "bike_share_for_all_trip           object\n",
      "duration_sec                      int64\n",
      "end_station_id                    int64\n",
      "end_station_latitude              float64\n",
      "end_station_longitude             float64\n",
      "end_station_name                  object\n",
      "end_time                          datetime64[ns]\n",
      "member_birth_year                 int64\n",
      "member_gender                     object\n",
      "start_station_id                  int64\n",
      "start_station_latitude            float64\n",
      "start_station_longitude           float64\n",
      "start_station_name                object\n",
      "start_time                        datetime64[ns]\n",
      "user_type                         object\n",
      "start_time_date                   object\n",
      "end_time_date                     object\n",
      "start_time_year_month             object\n",
      "end_time_year_month               object\n",
      "start_time_year_month_combined    object\n",
      "start_time_year                   int64\n",
      "end_time_year                     int64\n",
      "start_time_month                  int64\n",
      "end_time_month                    int64\n",
      "start_time_hour_minute            object\n",
      "end_time_hour_minute              object\n",
      "start_time_hour                   int64\n",
      "end_time_hour                     int64\n",
      "start_time_weekday                object\n",
      "end_time_weekday                  object\n",
      "dtypes: datetime64[ns](2), float64(4), int64(11), object(14)\n",
      "memory usage: 934.6+ MB\n"
     ]
    }
   ],
   "source": [
    "#TEST-03\n",
    "df.info()"
   ]
  },
  {
   "cell_type": "markdown",
   "metadata": {
    "slideshow": {
     "slide_type": "skip"
    }
   },
   "source": [
    "**Define-04:** Member ages are not given but we can derive from the member birth years!"
   ]
  },
  {
   "cell_type": "code",
   "execution_count": 30,
   "metadata": {
    "slideshow": {
     "slide_type": "skip"
    }
   },
   "outputs": [],
   "source": [
    "#CODE-04\n",
    "today = datetime.datetime.today()\n",
    "this_year = today.year\n",
    "#\n",
    "df['member_age'] = this_year - df['member_birth_year']"
   ]
  },
  {
   "cell_type": "code",
   "execution_count": 31,
   "metadata": {
    "slideshow": {
     "slide_type": "skip"
    }
   },
   "outputs": [
    {
     "data": {
      "text/html": [
       "<div>\n",
       "<style scoped>\n",
       "    .dataframe tbody tr th:only-of-type {\n",
       "        vertical-align: middle;\n",
       "    }\n",
       "\n",
       "    .dataframe tbody tr th {\n",
       "        vertical-align: top;\n",
       "    }\n",
       "\n",
       "    .dataframe thead th {\n",
       "        text-align: right;\n",
       "    }\n",
       "</style>\n",
       "<table border=\"1\" class=\"dataframe\">\n",
       "  <thead>\n",
       "    <tr style=\"text-align: right;\">\n",
       "      <th></th>\n",
       "      <th>bike_id</th>\n",
       "      <th>bike_share_for_all_trip</th>\n",
       "      <th>duration_sec</th>\n",
       "      <th>end_station_id</th>\n",
       "      <th>end_station_latitude</th>\n",
       "      <th>end_station_longitude</th>\n",
       "      <th>end_station_name</th>\n",
       "      <th>end_time</th>\n",
       "      <th>member_birth_year</th>\n",
       "      <th>member_gender</th>\n",
       "      <th>...</th>\n",
       "      <th>end_time_year</th>\n",
       "      <th>start_time_month</th>\n",
       "      <th>end_time_month</th>\n",
       "      <th>start_time_hour_minute</th>\n",
       "      <th>end_time_hour_minute</th>\n",
       "      <th>start_time_hour</th>\n",
       "      <th>end_time_hour</th>\n",
       "      <th>start_time_weekday</th>\n",
       "      <th>end_time_weekday</th>\n",
       "      <th>member_age</th>\n",
       "    </tr>\n",
       "  </thead>\n",
       "  <tbody>\n",
       "    <tr>\n",
       "      <th>113093</th>\n",
       "      <td>2695</td>\n",
       "      <td>Yes</td>\n",
       "      <td>297</td>\n",
       "      <td>245</td>\n",
       "      <td>37.870139</td>\n",
       "      <td>-122.268422</td>\n",
       "      <td>Downtown Berkeley BART</td>\n",
       "      <td>2019-05-11 17:30:39.119</td>\n",
       "      <td>1996</td>\n",
       "      <td>Female</td>\n",
       "      <td>...</td>\n",
       "      <td>2019</td>\n",
       "      <td>5</td>\n",
       "      <td>5</td>\n",
       "      <td>17-05</td>\n",
       "      <td>17-05</td>\n",
       "      <td>17</td>\n",
       "      <td>17</td>\n",
       "      <td>Saturday</td>\n",
       "      <td>Saturday</td>\n",
       "      <td>23</td>\n",
       "    </tr>\n",
       "    <tr>\n",
       "      <th>57140</th>\n",
       "      <td>4068</td>\n",
       "      <td>Yes</td>\n",
       "      <td>530</td>\n",
       "      <td>67</td>\n",
       "      <td>37.776639</td>\n",
       "      <td>-122.395526</td>\n",
       "      <td>San Francisco Caltrain Station 2  (Townsend St...</td>\n",
       "      <td>2018-06-22 13:08:28.258</td>\n",
       "      <td>1984</td>\n",
       "      <td>Female</td>\n",
       "      <td>...</td>\n",
       "      <td>2018</td>\n",
       "      <td>6</td>\n",
       "      <td>6</td>\n",
       "      <td>12-06</td>\n",
       "      <td>13-06</td>\n",
       "      <td>12</td>\n",
       "      <td>13</td>\n",
       "      <td>Friday</td>\n",
       "      <td>Friday</td>\n",
       "      <td>35</td>\n",
       "    </tr>\n",
       "    <tr>\n",
       "      <th>112786</th>\n",
       "      <td>5245</td>\n",
       "      <td>No</td>\n",
       "      <td>462</td>\n",
       "      <td>90</td>\n",
       "      <td>37.771058</td>\n",
       "      <td>-122.402717</td>\n",
       "      <td>Townsend St at 7th St</td>\n",
       "      <td>2019-01-16 09:30:28.497</td>\n",
       "      <td>1989</td>\n",
       "      <td>Female</td>\n",
       "      <td>...</td>\n",
       "      <td>2019</td>\n",
       "      <td>1</td>\n",
       "      <td>1</td>\n",
       "      <td>09-01</td>\n",
       "      <td>09-01</td>\n",
       "      <td>9</td>\n",
       "      <td>9</td>\n",
       "      <td>Wednesday</td>\n",
       "      <td>Wednesday</td>\n",
       "      <td>30</td>\n",
       "    </tr>\n",
       "  </tbody>\n",
       "</table>\n",
       "<p>3 rows × 32 columns</p>\n",
       "</div>"
      ],
      "text/plain": [
       "        bike_id bike_share_for_all_trip  duration_sec  end_station_id  \\\n",
       "113093     2695                     Yes           297             245   \n",
       "57140      4068                     Yes           530              67   \n",
       "112786     5245                      No           462              90   \n",
       "\n",
       "        end_station_latitude  end_station_longitude  \\\n",
       "113093             37.870139            -122.268422   \n",
       "57140              37.776639            -122.395526   \n",
       "112786             37.771058            -122.402717   \n",
       "\n",
       "                                         end_station_name  \\\n",
       "113093                             Downtown Berkeley BART   \n",
       "57140   San Francisco Caltrain Station 2  (Townsend St...   \n",
       "112786                              Townsend St at 7th St   \n",
       "\n",
       "                      end_time  member_birth_year member_gender  ...  \\\n",
       "113093 2019-05-11 17:30:39.119               1996        Female  ...   \n",
       "57140  2018-06-22 13:08:28.258               1984        Female  ...   \n",
       "112786 2019-01-16 09:30:28.497               1989        Female  ...   \n",
       "\n",
       "        end_time_year  start_time_month  end_time_month  \\\n",
       "113093           2019                 5               5   \n",
       "57140            2018                 6               6   \n",
       "112786           2019                 1               1   \n",
       "\n",
       "       start_time_hour_minute end_time_hour_minute start_time_hour  \\\n",
       "113093                  17-05                17-05              17   \n",
       "57140                   12-06                13-06              12   \n",
       "112786                  09-01                09-01               9   \n",
       "\n",
       "       end_time_hour start_time_weekday end_time_weekday member_age  \n",
       "113093            17           Saturday         Saturday         23  \n",
       "57140             13             Friday           Friday         35  \n",
       "112786             9          Wednesday        Wednesday         30  \n",
       "\n",
       "[3 rows x 32 columns]"
      ]
     },
     "execution_count": 31,
     "metadata": {},
     "output_type": "execute_result"
    }
   ],
   "source": [
    "#TEST-04\n",
    "df.sample(3)"
   ]
  },
  {
   "cell_type": "markdown",
   "metadata": {
    "slideshow": {
     "slide_type": "skip"
    }
   },
   "source": [
    "**Define-05:** Duration in minutes would be proper more than seconds.<br>\n",
    "Let's change this column."
   ]
  },
  {
   "cell_type": "code",
   "execution_count": 32,
   "metadata": {
    "slideshow": {
     "slide_type": "skip"
    }
   },
   "outputs": [],
   "source": [
    "##CODE-05\n",
    "df['duration_min'] = df['duration_sec']/60\n",
    "df['duration_min'] = df['duration_min'].round(decimals=1)\n",
    "df.drop(['duration_sec'], axis=1, inplace=True )"
   ]
  },
  {
   "cell_type": "code",
   "execution_count": 33,
   "metadata": {
    "slideshow": {
     "slide_type": "skip"
    }
   },
   "outputs": [
    {
     "data": {
      "text/plain": [
       "0     10.0\n",
       "1     15.7\n",
       "2    309.8\n",
       "3    309.3\n",
       "4     14.8\n",
       "Name: duration_min, dtype: float64"
      ]
     },
     "execution_count": 33,
     "metadata": {},
     "output_type": "execute_result"
    }
   ],
   "source": [
    "##TEST-05\n",
    "df.duration_min[:5]"
   ]
  },
  {
   "cell_type": "code",
   "execution_count": 34,
   "metadata": {
    "slideshow": {
     "slide_type": "skip"
    }
   },
   "outputs": [
    {
     "name": "stdout",
     "output_type": "stream",
     "text": [
      "<class 'pandas.core.frame.DataFrame'>\n",
      "Int64Index: 3828132 entries, 0 to 183411\n",
      "Data columns (total 32 columns):\n",
      "bike_id                           int64\n",
      "bike_share_for_all_trip           object\n",
      "end_station_id                    int64\n",
      "end_station_latitude              float64\n",
      "end_station_longitude             float64\n",
      "end_station_name                  object\n",
      "end_time                          datetime64[ns]\n",
      "member_birth_year                 int64\n",
      "member_gender                     object\n",
      "start_station_id                  int64\n",
      "start_station_latitude            float64\n",
      "start_station_longitude           float64\n",
      "start_station_name                object\n",
      "start_time                        datetime64[ns]\n",
      "user_type                         object\n",
      "start_time_date                   object\n",
      "end_time_date                     object\n",
      "start_time_year_month             object\n",
      "end_time_year_month               object\n",
      "start_time_year_month_combined    object\n",
      "start_time_year                   int64\n",
      "end_time_year                     int64\n",
      "start_time_month                  int64\n",
      "end_time_month                    int64\n",
      "start_time_hour_minute            object\n",
      "end_time_hour_minute              object\n",
      "start_time_hour                   int64\n",
      "end_time_hour                     int64\n",
      "start_time_weekday                object\n",
      "end_time_weekday                  object\n",
      "member_age                        int64\n",
      "duration_min                      float64\n",
      "dtypes: datetime64[ns](2), float64(5), int64(11), object(14)\n",
      "memory usage: 963.8+ MB\n"
     ]
    }
   ],
   "source": [
    "df.info()"
   ]
  },
  {
   "cell_type": "markdown",
   "metadata": {
    "slideshow": {
     "slide_type": "skip"
    }
   },
   "source": [
    "**Define-06:** Genders are defined with different strings and charachters!"
   ]
  },
  {
   "cell_type": "code",
   "execution_count": 35,
   "metadata": {
    "slideshow": {
     "slide_type": "skip"
    }
   },
   "outputs": [
    {
     "data": {
      "text/plain": [
       "Male      2614403\n",
       "Female     851543\n",
       "0          276194\n",
       "Other       57986\n",
       "M           19885\n",
       "F            5076\n",
       "?            2589\n",
       "O             456\n",
       "Name: member_gender, dtype: int64"
      ]
     },
     "execution_count": 35,
     "metadata": {},
     "output_type": "execute_result"
    }
   ],
   "source": [
    "df['member_gender'].value_counts()"
   ]
  },
  {
   "cell_type": "code",
   "execution_count": 36,
   "metadata": {
    "slideshow": {
     "slide_type": "skip"
    }
   },
   "outputs": [],
   "source": [
    "#CODE-06 (Replace by dictionary)\n",
    "df['member_gender'] = df['member_gender'].replace({'M':'Male', 'F':'Female',\n",
    "                                                   '0':'Other', 'O':'Other',\n",
    "                                                   '?':None});\n",
    "#Assumption: '0' is assumed as a typo of 'O'"
   ]
  },
  {
   "cell_type": "code",
   "execution_count": 37,
   "metadata": {
    "slideshow": {
     "slide_type": "skip"
    }
   },
   "outputs": [],
   "source": [
    "df = df.dropna(subset=['member_gender']);"
   ]
  },
  {
   "cell_type": "code",
   "execution_count": 38,
   "metadata": {
    "slideshow": {
     "slide_type": "skip"
    }
   },
   "outputs": [
    {
     "data": {
      "text/plain": [
       "Male      2634288\n",
       "Female     856619\n",
       "0          276194\n",
       "Other       58442\n",
       "Name: member_gender, dtype: int64"
      ]
     },
     "execution_count": 38,
     "metadata": {},
     "output_type": "execute_result"
    }
   ],
   "source": [
    "#TEST-06\n",
    "df['member_gender'].value_counts()"
   ]
  },
  {
   "cell_type": "markdown",
   "metadata": {
    "slideshow": {
     "slide_type": "skip"
    }
   },
   "source": [
    "**Define-07:** There are some non-logical age values (most probably due to missing member_birth_year)"
   ]
  },
  {
   "cell_type": "code",
   "execution_count": 39,
   "metadata": {
    "slideshow": {
     "slide_type": "skip"
    }
   },
   "outputs": [
    {
     "data": {
      "text/plain": [
       "count    3.825543e+06\n",
       "mean     1.790474e+02\n",
       "std      5.138031e+02\n",
       "min      1.800000e+01\n",
       "25%      2.900000e+01\n",
       "50%      3.400000e+01\n",
       "75%      4.400000e+01\n",
       "max      2.019000e+03\n",
       "Name: member_age, dtype: float64"
      ]
     },
     "execution_count": 39,
     "metadata": {},
     "output_type": "execute_result"
    }
   ],
   "source": [
    "df.member_age.describe()"
   ]
  },
  {
   "cell_type": "markdown",
   "metadata": {
    "slideshow": {
     "slide_type": "skip"
    }
   },
   "source": [
    "Let's drop the rows in which age is bigger than 75!"
   ]
  },
  {
   "cell_type": "code",
   "execution_count": 40,
   "metadata": {
    "slideshow": {
     "slide_type": "skip"
    }
   },
   "outputs": [],
   "source": [
    "#CODE-O7\n",
    "df = df[~(df['member_age']>75)]"
   ]
  },
  {
   "cell_type": "code",
   "execution_count": 41,
   "metadata": {
    "slideshow": {
     "slide_type": "skip"
    }
   },
   "outputs": [
    {
     "data": {
      "text/plain": [
       "count    3.542288e+06\n",
       "mean     3.551485e+01\n",
       "std      1.009837e+01\n",
       "min      1.800000e+01\n",
       "25%      2.800000e+01\n",
       "50%      3.300000e+01\n",
       "75%      4.100000e+01\n",
       "max      7.500000e+01\n",
       "Name: member_age, dtype: float64"
      ]
     },
     "execution_count": 41,
     "metadata": {},
     "output_type": "execute_result"
    }
   ],
   "source": [
    "#TEST-07\n",
    "df.member_age.describe()"
   ]
  },
  {
   "cell_type": "markdown",
   "metadata": {
    "slideshow": {
     "slide_type": "skip"
    }
   },
   "source": [
    "#### AFTER-CHECK\n",
    "At this point we should re-assess our data since we made some changes on the master dataframe.<br>\n",
    "Let's check whether the dataframe is influenced.<br>"
   ]
  },
  {
   "cell_type": "code",
   "execution_count": 42,
   "metadata": {
    "slideshow": {
     "slide_type": "skip"
    }
   },
   "outputs": [],
   "source": [
    "df.drop_duplicates(subset=None, keep='first', inplace=True)"
   ]
  },
  {
   "cell_type": "code",
   "execution_count": 43,
   "metadata": {
    "slideshow": {
     "slide_type": "skip"
    }
   },
   "outputs": [
    {
     "data": {
      "text/plain": [
       "bike_id                           0\n",
       "bike_share_for_all_trip           0\n",
       "end_station_id                    0\n",
       "end_station_latitude              0\n",
       "end_station_longitude             0\n",
       "end_station_name                  0\n",
       "end_time                          0\n",
       "member_birth_year                 0\n",
       "member_gender                     0\n",
       "start_station_id                  0\n",
       "start_station_latitude            0\n",
       "start_station_longitude           0\n",
       "start_station_name                0\n",
       "start_time                        0\n",
       "user_type                         0\n",
       "start_time_date                   0\n",
       "end_time_date                     0\n",
       "start_time_year_month             0\n",
       "end_time_year_month               0\n",
       "start_time_year_month_combined    0\n",
       "start_time_year                   0\n",
       "end_time_year                     0\n",
       "start_time_month                  0\n",
       "end_time_month                    0\n",
       "start_time_hour_minute            0\n",
       "end_time_hour_minute              0\n",
       "start_time_hour                   0\n",
       "end_time_hour                     0\n",
       "start_time_weekday                0\n",
       "end_time_weekday                  0\n",
       "member_age                        0\n",
       "duration_min                      0\n",
       "dtype: int64"
      ]
     },
     "execution_count": 43,
     "metadata": {},
     "output_type": "execute_result"
    }
   ],
   "source": [
    "df.isnull().sum()"
   ]
  },
  {
   "cell_type": "code",
   "execution_count": 44,
   "metadata": {
    "slideshow": {
     "slide_type": "skip"
    }
   },
   "outputs": [
    {
     "data": {
      "text/html": [
       "<div>\n",
       "<style scoped>\n",
       "    .dataframe tbody tr th:only-of-type {\n",
       "        vertical-align: middle;\n",
       "    }\n",
       "\n",
       "    .dataframe tbody tr th {\n",
       "        vertical-align: top;\n",
       "    }\n",
       "\n",
       "    .dataframe thead th {\n",
       "        text-align: right;\n",
       "    }\n",
       "</style>\n",
       "<table border=\"1\" class=\"dataframe\">\n",
       "  <thead>\n",
       "    <tr style=\"text-align: right;\">\n",
       "      <th></th>\n",
       "      <th>bike_id</th>\n",
       "      <th>end_station_id</th>\n",
       "      <th>end_station_latitude</th>\n",
       "      <th>end_station_longitude</th>\n",
       "      <th>member_birth_year</th>\n",
       "      <th>start_station_id</th>\n",
       "      <th>start_station_latitude</th>\n",
       "      <th>start_station_longitude</th>\n",
       "      <th>start_time_year</th>\n",
       "      <th>end_time_year</th>\n",
       "      <th>start_time_month</th>\n",
       "      <th>end_time_month</th>\n",
       "      <th>start_time_hour</th>\n",
       "      <th>end_time_hour</th>\n",
       "      <th>member_age</th>\n",
       "      <th>duration_min</th>\n",
       "    </tr>\n",
       "  </thead>\n",
       "  <tbody>\n",
       "    <tr>\n",
       "      <th>count</th>\n",
       "      <td>3.542288e+06</td>\n",
       "      <td>3.542288e+06</td>\n",
       "      <td>3.542288e+06</td>\n",
       "      <td>3.542288e+06</td>\n",
       "      <td>3.542288e+06</td>\n",
       "      <td>3.542288e+06</td>\n",
       "      <td>3.542288e+06</td>\n",
       "      <td>3.542288e+06</td>\n",
       "      <td>3.542288e+06</td>\n",
       "      <td>3.542288e+06</td>\n",
       "      <td>3.542288e+06</td>\n",
       "      <td>3.542288e+06</td>\n",
       "      <td>3.542288e+06</td>\n",
       "      <td>3.542288e+06</td>\n",
       "      <td>3.542288e+06</td>\n",
       "      <td>3.542288e+06</td>\n",
       "    </tr>\n",
       "    <tr>\n",
       "      <th>mean</th>\n",
       "      <td>5.906475e+03</td>\n",
       "      <td>1.216226e+02</td>\n",
       "      <td>3.776743e+01</td>\n",
       "      <td>-1.223493e+02</td>\n",
       "      <td>1.983485e+03</td>\n",
       "      <td>1.236088e+02</td>\n",
       "      <td>3.776749e+01</td>\n",
       "      <td>-1.223504e+02</td>\n",
       "      <td>2.018251e+03</td>\n",
       "      <td>2.018251e+03</td>\n",
       "      <td>6.171764e+00</td>\n",
       "      <td>6.171756e+00</td>\n",
       "      <td>1.351708e+01</td>\n",
       "      <td>1.367479e+01</td>\n",
       "      <td>3.551485e+01</td>\n",
       "      <td>1.287893e+01</td>\n",
       "    </tr>\n",
       "    <tr>\n",
       "      <th>std</th>\n",
       "      <td>4.312906e+04</td>\n",
       "      <td>1.049357e+02</td>\n",
       "      <td>1.343620e-01</td>\n",
       "      <td>3.116591e-01</td>\n",
       "      <td>1.009837e+01</td>\n",
       "      <td>1.052722e+02</td>\n",
       "      <td>1.059782e-01</td>\n",
       "      <td>1.594409e-01</td>\n",
       "      <td>6.657115e-01</td>\n",
       "      <td>6.657092e-01</td>\n",
       "      <td>3.227324e+00</td>\n",
       "      <td>3.227325e+00</td>\n",
       "      <td>4.767212e+00</td>\n",
       "      <td>4.787803e+00</td>\n",
       "      <td>1.009837e+01</td>\n",
       "      <td>3.253576e+01</td>\n",
       "    </tr>\n",
       "    <tr>\n",
       "      <th>min</th>\n",
       "      <td>1.000000e+01</td>\n",
       "      <td>0.000000e+00</td>\n",
       "      <td>0.000000e+00</td>\n",
       "      <td>-1.224737e+02</td>\n",
       "      <td>1.944000e+03</td>\n",
       "      <td>0.000000e+00</td>\n",
       "      <td>0.000000e+00</td>\n",
       "      <td>-1.224737e+02</td>\n",
       "      <td>2.017000e+03</td>\n",
       "      <td>2.017000e+03</td>\n",
       "      <td>1.000000e+00</td>\n",
       "      <td>1.000000e+00</td>\n",
       "      <td>0.000000e+00</td>\n",
       "      <td>0.000000e+00</td>\n",
       "      <td>1.800000e+01</td>\n",
       "      <td>1.000000e+00</td>\n",
       "    </tr>\n",
       "    <tr>\n",
       "      <th>25%</th>\n",
       "      <td>1.299000e+03</td>\n",
       "      <td>3.000000e+01</td>\n",
       "      <td>3.777106e+01</td>\n",
       "      <td>-1.224107e+02</td>\n",
       "      <td>1.978000e+03</td>\n",
       "      <td>3.400000e+01</td>\n",
       "      <td>3.777106e+01</td>\n",
       "      <td>-1.224117e+02</td>\n",
       "      <td>2.018000e+03</td>\n",
       "      <td>2.018000e+03</td>\n",
       "      <td>3.000000e+00</td>\n",
       "      <td>3.000000e+00</td>\n",
       "      <td>9.000000e+00</td>\n",
       "      <td>9.000000e+00</td>\n",
       "      <td>2.800000e+01</td>\n",
       "      <td>5.800000e+00</td>\n",
       "    </tr>\n",
       "    <tr>\n",
       "      <th>50%</th>\n",
       "      <td>2.517000e+03</td>\n",
       "      <td>8.900000e+01</td>\n",
       "      <td>3.778107e+01</td>\n",
       "      <td>-1.223971e+02</td>\n",
       "      <td>1.986000e+03</td>\n",
       "      <td>9.000000e+01</td>\n",
       "      <td>3.778107e+01</td>\n",
       "      <td>-1.223974e+02</td>\n",
       "      <td>2.018000e+03</td>\n",
       "      <td>2.018000e+03</td>\n",
       "      <td>6.000000e+00</td>\n",
       "      <td>6.000000e+00</td>\n",
       "      <td>1.400000e+01</td>\n",
       "      <td>1.400000e+01</td>\n",
       "      <td>3.300000e+01</td>\n",
       "      <td>9.100000e+00</td>\n",
       "    </tr>\n",
       "    <tr>\n",
       "      <th>75%</th>\n",
       "      <td>3.679000e+03</td>\n",
       "      <td>1.930000e+02</td>\n",
       "      <td>3.779647e+01</td>\n",
       "      <td>-1.222894e+02</td>\n",
       "      <td>1.991000e+03</td>\n",
       "      <td>1.940000e+02</td>\n",
       "      <td>3.779625e+01</td>\n",
       "      <td>-1.222887e+02</td>\n",
       "      <td>2.019000e+03</td>\n",
       "      <td>2.019000e+03</td>\n",
       "      <td>9.000000e+00</td>\n",
       "      <td>9.000000e+00</td>\n",
       "      <td>1.700000e+01</td>\n",
       "      <td>1.800000e+01</td>\n",
       "      <td>4.100000e+01</td>\n",
       "      <td>1.400000e+01</td>\n",
       "    </tr>\n",
       "    <tr>\n",
       "      <th>max</th>\n",
       "      <td>9.969630e+05</td>\n",
       "      <td>4.430000e+02</td>\n",
       "      <td>4.551000e+01</td>\n",
       "      <td>0.000000e+00</td>\n",
       "      <td>2.001000e+03</td>\n",
       "      <td>4.430000e+02</td>\n",
       "      <td>4.551000e+01</td>\n",
       "      <td>0.000000e+00</td>\n",
       "      <td>2.019000e+03</td>\n",
       "      <td>2.019000e+03</td>\n",
       "      <td>1.200000e+01</td>\n",
       "      <td>1.200000e+01</td>\n",
       "      <td>2.300000e+01</td>\n",
       "      <td>2.300000e+01</td>\n",
       "      <td>7.500000e+01</td>\n",
       "      <td>1.438000e+03</td>\n",
       "    </tr>\n",
       "  </tbody>\n",
       "</table>\n",
       "</div>"
      ],
      "text/plain": [
       "            bike_id  end_station_id  end_station_latitude  \\\n",
       "count  3.542288e+06    3.542288e+06          3.542288e+06   \n",
       "mean   5.906475e+03    1.216226e+02          3.776743e+01   \n",
       "std    4.312906e+04    1.049357e+02          1.343620e-01   \n",
       "min    1.000000e+01    0.000000e+00          0.000000e+00   \n",
       "25%    1.299000e+03    3.000000e+01          3.777106e+01   \n",
       "50%    2.517000e+03    8.900000e+01          3.778107e+01   \n",
       "75%    3.679000e+03    1.930000e+02          3.779647e+01   \n",
       "max    9.969630e+05    4.430000e+02          4.551000e+01   \n",
       "\n",
       "       end_station_longitude  member_birth_year  start_station_id  \\\n",
       "count           3.542288e+06       3.542288e+06      3.542288e+06   \n",
       "mean           -1.223493e+02       1.983485e+03      1.236088e+02   \n",
       "std             3.116591e-01       1.009837e+01      1.052722e+02   \n",
       "min            -1.224737e+02       1.944000e+03      0.000000e+00   \n",
       "25%            -1.224107e+02       1.978000e+03      3.400000e+01   \n",
       "50%            -1.223971e+02       1.986000e+03      9.000000e+01   \n",
       "75%            -1.222894e+02       1.991000e+03      1.940000e+02   \n",
       "max             0.000000e+00       2.001000e+03      4.430000e+02   \n",
       "\n",
       "       start_station_latitude  start_station_longitude  start_time_year  \\\n",
       "count            3.542288e+06             3.542288e+06     3.542288e+06   \n",
       "mean             3.776749e+01            -1.223504e+02     2.018251e+03   \n",
       "std              1.059782e-01             1.594409e-01     6.657115e-01   \n",
       "min              0.000000e+00            -1.224737e+02     2.017000e+03   \n",
       "25%              3.777106e+01            -1.224117e+02     2.018000e+03   \n",
       "50%              3.778107e+01            -1.223974e+02     2.018000e+03   \n",
       "75%              3.779625e+01            -1.222887e+02     2.019000e+03   \n",
       "max              4.551000e+01             0.000000e+00     2.019000e+03   \n",
       "\n",
       "       end_time_year  start_time_month  end_time_month  start_time_hour  \\\n",
       "count   3.542288e+06      3.542288e+06    3.542288e+06     3.542288e+06   \n",
       "mean    2.018251e+03      6.171764e+00    6.171756e+00     1.351708e+01   \n",
       "std     6.657092e-01      3.227324e+00    3.227325e+00     4.767212e+00   \n",
       "min     2.017000e+03      1.000000e+00    1.000000e+00     0.000000e+00   \n",
       "25%     2.018000e+03      3.000000e+00    3.000000e+00     9.000000e+00   \n",
       "50%     2.018000e+03      6.000000e+00    6.000000e+00     1.400000e+01   \n",
       "75%     2.019000e+03      9.000000e+00    9.000000e+00     1.700000e+01   \n",
       "max     2.019000e+03      1.200000e+01    1.200000e+01     2.300000e+01   \n",
       "\n",
       "       end_time_hour    member_age  duration_min  \n",
       "count   3.542288e+06  3.542288e+06  3.542288e+06  \n",
       "mean    1.367479e+01  3.551485e+01  1.287893e+01  \n",
       "std     4.787803e+00  1.009837e+01  3.253576e+01  \n",
       "min     0.000000e+00  1.800000e+01  1.000000e+00  \n",
       "25%     9.000000e+00  2.800000e+01  5.800000e+00  \n",
       "50%     1.400000e+01  3.300000e+01  9.100000e+00  \n",
       "75%     1.800000e+01  4.100000e+01  1.400000e+01  \n",
       "max     2.300000e+01  7.500000e+01  1.438000e+03  "
      ]
     },
     "execution_count": 44,
     "metadata": {},
     "output_type": "execute_result"
    }
   ],
   "source": [
    "df.describe()"
   ]
  },
  {
   "cell_type": "markdown",
   "metadata": {
    "slideshow": {
     "slide_type": "skip"
    }
   },
   "source": [
    "**Conclusion:** Everything seem fine. Let's save this **clean** master dataframe!"
   ]
  },
  {
   "cell_type": "code",
   "execution_count": 46,
   "metadata": {
    "slideshow": {
     "slide_type": "skip"
    }
   },
   "outputs": [
    {
     "data": {
      "text/plain": [
       "'/Users/UGUR/Desktop/mycodes/training/Udacity_DAND/project5/Data'"
      ]
     },
     "execution_count": 46,
     "metadata": {},
     "output_type": "execute_result"
    }
   ],
   "source": [
    "getcwd()"
   ]
  },
  {
   "cell_type": "code",
   "execution_count": 48,
   "metadata": {
    "slideshow": {
     "slide_type": "skip"
    }
   },
   "outputs": [
    {
     "name": "stdout",
     "output_type": "stream",
     "text": [
      "Clean master dataframe is saved... Please wait!\n",
      "Clean master dataframe has been saved!\n"
     ]
    }
   ],
   "source": [
    "#Saving the CLEAN master dataframe\n",
    "#THIS TAKES SIGNIFICANT AMOUNT OF TIME!\n",
    "print('Clean master dataframe is saved... Please wait!')\n",
    "df.to_csv('clean_master_dataframe.csv', encoding='UTF-8', index=False)\n",
    "print('Clean master dataframe has been saved!')"
   ]
  },
  {
   "cell_type": "markdown",
   "metadata": {
    "slideshow": {
     "slide_type": "slide"
    }
   },
   "source": [
    "## EXPLONATORY ANALYSIS"
   ]
  },
  {
   "cell_type": "code",
   "execution_count": 2,
   "metadata": {
    "slideshow": {
     "slide_type": "skip"
    }
   },
   "outputs": [
    {
     "data": {
      "text/plain": [
       "'/Users/UGUR/Desktop/mycodes/training/Udacity_DAND/project5'"
      ]
     },
     "execution_count": 2,
     "metadata": {},
     "output_type": "execute_result"
    }
   ],
   "source": [
    "#Setting the working-directory (Re-set this according to your working directory!)\n",
    "path='/Users/UGUR/Desktop/mycodes/training/Udacity_DAND/project5'\n",
    "chdir(path)\n",
    "getcwd()"
   ]
  },
  {
   "cell_type": "code",
   "execution_count": 3,
   "metadata": {
    "slideshow": {
     "slide_type": "skip"
    }
   },
   "outputs": [
    {
     "name": "stdout",
     "output_type": "stream",
     "text": [
      "Importing clean master data frame... Please wait!\n"
     ]
    },
    {
     "name": "stderr",
     "output_type": "stream",
     "text": [
      "/Users/UGUR/anaconda3/lib/python3.7/site-packages/IPython/core/interactiveshell.py:3049: DtypeWarning: Columns (1) have mixed types. Specify dtype option on import or set low_memory=False.\n",
      "  interactivity=interactivity, compiler=compiler, result=result)\n"
     ]
    },
    {
     "name": "stdout",
     "output_type": "stream",
     "text": [
      "Clean master dataframe has been imported!\n"
     ]
    }
   ],
   "source": [
    "#Uploading the clean master dataframe\n",
    "print('Importing clean master data frame... Please wait!')\n",
    "dfc = pd.read_csv('./Data/clean_master_dataframe.csv') # c:clean\n",
    "print('Clean master dataframe has been imported!')"
   ]
  },
  {
   "cell_type": "markdown",
   "metadata": {
    "slideshow": {
     "slide_type": "skip"
    }
   },
   "source": [
    "#### Data properties and fundamental statistics"
   ]
  },
  {
   "cell_type": "code",
   "execution_count": 4,
   "metadata": {
    "slideshow": {
     "slide_type": "skip"
    }
   },
   "outputs": [
    {
     "data": {
      "text/plain": [
       "(3542288, 32)"
      ]
     },
     "execution_count": 4,
     "metadata": {},
     "output_type": "execute_result"
    }
   ],
   "source": [
    "dfc.shape"
   ]
  },
  {
   "cell_type": "code",
   "execution_count": 5,
   "metadata": {
    "slideshow": {
     "slide_type": "skip"
    }
   },
   "outputs": [
    {
     "name": "stdout",
     "output_type": "stream",
     "text": [
      "<class 'pandas.core.frame.DataFrame'>\n",
      "RangeIndex: 3542288 entries, 0 to 3542287\n",
      "Data columns (total 32 columns):\n",
      "bike_id                           int64\n",
      "bike_share_for_all_trip           object\n",
      "end_station_id                    int64\n",
      "end_station_latitude              float64\n",
      "end_station_longitude             float64\n",
      "end_station_name                  object\n",
      "end_time                          object\n",
      "member_birth_year                 int64\n",
      "member_gender                     object\n",
      "start_station_id                  int64\n",
      "start_station_latitude            float64\n",
      "start_station_longitude           float64\n",
      "start_station_name                object\n",
      "start_time                        object\n",
      "user_type                         object\n",
      "start_time_date                   object\n",
      "end_time_date                     object\n",
      "start_time_year_month             object\n",
      "end_time_year_month               object\n",
      "start_time_year_month_combined    object\n",
      "start_time_year                   int64\n",
      "end_time_year                     int64\n",
      "start_time_month                  int64\n",
      "end_time_month                    int64\n",
      "start_time_hour_minute            object\n",
      "end_time_hour_minute              object\n",
      "start_time_hour                   int64\n",
      "end_time_hour                     int64\n",
      "start_time_weekday                object\n",
      "end_time_weekday                  object\n",
      "member_age                        int64\n",
      "duration_min                      float64\n",
      "dtypes: float64(5), int64(11), object(16)\n",
      "memory usage: 864.8+ MB\n"
     ]
    }
   ],
   "source": [
    "dfc.info()"
   ]
  },
  {
   "cell_type": "code",
   "execution_count": 6,
   "metadata": {
    "slideshow": {
     "slide_type": "skip"
    }
   },
   "outputs": [
    {
     "data": {
      "text/html": [
       "<div>\n",
       "<style scoped>\n",
       "    .dataframe tbody tr th:only-of-type {\n",
       "        vertical-align: middle;\n",
       "    }\n",
       "\n",
       "    .dataframe tbody tr th {\n",
       "        vertical-align: top;\n",
       "    }\n",
       "\n",
       "    .dataframe thead th {\n",
       "        text-align: right;\n",
       "    }\n",
       "</style>\n",
       "<table border=\"1\" class=\"dataframe\">\n",
       "  <thead>\n",
       "    <tr style=\"text-align: right;\">\n",
       "      <th></th>\n",
       "      <th>bike_id</th>\n",
       "      <th>end_station_id</th>\n",
       "      <th>end_station_latitude</th>\n",
       "      <th>end_station_longitude</th>\n",
       "      <th>member_birth_year</th>\n",
       "      <th>start_station_id</th>\n",
       "      <th>start_station_latitude</th>\n",
       "      <th>start_station_longitude</th>\n",
       "      <th>start_time_year</th>\n",
       "      <th>end_time_year</th>\n",
       "      <th>start_time_month</th>\n",
       "      <th>end_time_month</th>\n",
       "      <th>start_time_hour</th>\n",
       "      <th>end_time_hour</th>\n",
       "      <th>member_age</th>\n",
       "      <th>duration_min</th>\n",
       "    </tr>\n",
       "  </thead>\n",
       "  <tbody>\n",
       "    <tr>\n",
       "      <th>count</th>\n",
       "      <td>3.542288e+06</td>\n",
       "      <td>3.542288e+06</td>\n",
       "      <td>3.542288e+06</td>\n",
       "      <td>3.542288e+06</td>\n",
       "      <td>3.542288e+06</td>\n",
       "      <td>3.542288e+06</td>\n",
       "      <td>3.542288e+06</td>\n",
       "      <td>3.542288e+06</td>\n",
       "      <td>3.542288e+06</td>\n",
       "      <td>3.542288e+06</td>\n",
       "      <td>3.542288e+06</td>\n",
       "      <td>3.542288e+06</td>\n",
       "      <td>3.542288e+06</td>\n",
       "      <td>3.542288e+06</td>\n",
       "      <td>3.542288e+06</td>\n",
       "      <td>3.542288e+06</td>\n",
       "    </tr>\n",
       "    <tr>\n",
       "      <th>mean</th>\n",
       "      <td>5.906475e+03</td>\n",
       "      <td>1.216226e+02</td>\n",
       "      <td>3.776743e+01</td>\n",
       "      <td>-1.223493e+02</td>\n",
       "      <td>1.983485e+03</td>\n",
       "      <td>1.236088e+02</td>\n",
       "      <td>3.776749e+01</td>\n",
       "      <td>-1.223504e+02</td>\n",
       "      <td>2.018251e+03</td>\n",
       "      <td>2.018251e+03</td>\n",
       "      <td>6.171764e+00</td>\n",
       "      <td>6.171756e+00</td>\n",
       "      <td>1.351708e+01</td>\n",
       "      <td>1.367479e+01</td>\n",
       "      <td>3.551485e+01</td>\n",
       "      <td>1.287893e+01</td>\n",
       "    </tr>\n",
       "    <tr>\n",
       "      <th>std</th>\n",
       "      <td>4.312906e+04</td>\n",
       "      <td>1.049357e+02</td>\n",
       "      <td>1.343620e-01</td>\n",
       "      <td>3.116591e-01</td>\n",
       "      <td>1.009837e+01</td>\n",
       "      <td>1.052722e+02</td>\n",
       "      <td>1.059782e-01</td>\n",
       "      <td>1.594409e-01</td>\n",
       "      <td>6.657115e-01</td>\n",
       "      <td>6.657092e-01</td>\n",
       "      <td>3.227324e+00</td>\n",
       "      <td>3.227325e+00</td>\n",
       "      <td>4.767212e+00</td>\n",
       "      <td>4.787803e+00</td>\n",
       "      <td>1.009837e+01</td>\n",
       "      <td>3.253576e+01</td>\n",
       "    </tr>\n",
       "    <tr>\n",
       "      <th>min</th>\n",
       "      <td>1.000000e+01</td>\n",
       "      <td>0.000000e+00</td>\n",
       "      <td>0.000000e+00</td>\n",
       "      <td>-1.224737e+02</td>\n",
       "      <td>1.944000e+03</td>\n",
       "      <td>0.000000e+00</td>\n",
       "      <td>0.000000e+00</td>\n",
       "      <td>-1.224737e+02</td>\n",
       "      <td>2.017000e+03</td>\n",
       "      <td>2.017000e+03</td>\n",
       "      <td>1.000000e+00</td>\n",
       "      <td>1.000000e+00</td>\n",
       "      <td>0.000000e+00</td>\n",
       "      <td>0.000000e+00</td>\n",
       "      <td>1.800000e+01</td>\n",
       "      <td>1.000000e+00</td>\n",
       "    </tr>\n",
       "    <tr>\n",
       "      <th>25%</th>\n",
       "      <td>1.299000e+03</td>\n",
       "      <td>3.000000e+01</td>\n",
       "      <td>3.777106e+01</td>\n",
       "      <td>-1.224107e+02</td>\n",
       "      <td>1.978000e+03</td>\n",
       "      <td>3.400000e+01</td>\n",
       "      <td>3.777106e+01</td>\n",
       "      <td>-1.224117e+02</td>\n",
       "      <td>2.018000e+03</td>\n",
       "      <td>2.018000e+03</td>\n",
       "      <td>3.000000e+00</td>\n",
       "      <td>3.000000e+00</td>\n",
       "      <td>9.000000e+00</td>\n",
       "      <td>9.000000e+00</td>\n",
       "      <td>2.800000e+01</td>\n",
       "      <td>5.800000e+00</td>\n",
       "    </tr>\n",
       "    <tr>\n",
       "      <th>50%</th>\n",
       "      <td>2.517000e+03</td>\n",
       "      <td>8.900000e+01</td>\n",
       "      <td>3.778107e+01</td>\n",
       "      <td>-1.223971e+02</td>\n",
       "      <td>1.986000e+03</td>\n",
       "      <td>9.000000e+01</td>\n",
       "      <td>3.778107e+01</td>\n",
       "      <td>-1.223974e+02</td>\n",
       "      <td>2.018000e+03</td>\n",
       "      <td>2.018000e+03</td>\n",
       "      <td>6.000000e+00</td>\n",
       "      <td>6.000000e+00</td>\n",
       "      <td>1.400000e+01</td>\n",
       "      <td>1.400000e+01</td>\n",
       "      <td>3.300000e+01</td>\n",
       "      <td>9.100000e+00</td>\n",
       "    </tr>\n",
       "    <tr>\n",
       "      <th>75%</th>\n",
       "      <td>3.679000e+03</td>\n",
       "      <td>1.930000e+02</td>\n",
       "      <td>3.779647e+01</td>\n",
       "      <td>-1.222894e+02</td>\n",
       "      <td>1.991000e+03</td>\n",
       "      <td>1.940000e+02</td>\n",
       "      <td>3.779625e+01</td>\n",
       "      <td>-1.222887e+02</td>\n",
       "      <td>2.019000e+03</td>\n",
       "      <td>2.019000e+03</td>\n",
       "      <td>9.000000e+00</td>\n",
       "      <td>9.000000e+00</td>\n",
       "      <td>1.700000e+01</td>\n",
       "      <td>1.800000e+01</td>\n",
       "      <td>4.100000e+01</td>\n",
       "      <td>1.400000e+01</td>\n",
       "    </tr>\n",
       "    <tr>\n",
       "      <th>max</th>\n",
       "      <td>9.969630e+05</td>\n",
       "      <td>4.430000e+02</td>\n",
       "      <td>4.551000e+01</td>\n",
       "      <td>0.000000e+00</td>\n",
       "      <td>2.001000e+03</td>\n",
       "      <td>4.430000e+02</td>\n",
       "      <td>4.551000e+01</td>\n",
       "      <td>0.000000e+00</td>\n",
       "      <td>2.019000e+03</td>\n",
       "      <td>2.019000e+03</td>\n",
       "      <td>1.200000e+01</td>\n",
       "      <td>1.200000e+01</td>\n",
       "      <td>2.300000e+01</td>\n",
       "      <td>2.300000e+01</td>\n",
       "      <td>7.500000e+01</td>\n",
       "      <td>1.438000e+03</td>\n",
       "    </tr>\n",
       "  </tbody>\n",
       "</table>\n",
       "</div>"
      ],
      "text/plain": [
       "            bike_id  end_station_id  end_station_latitude  \\\n",
       "count  3.542288e+06    3.542288e+06          3.542288e+06   \n",
       "mean   5.906475e+03    1.216226e+02          3.776743e+01   \n",
       "std    4.312906e+04    1.049357e+02          1.343620e-01   \n",
       "min    1.000000e+01    0.000000e+00          0.000000e+00   \n",
       "25%    1.299000e+03    3.000000e+01          3.777106e+01   \n",
       "50%    2.517000e+03    8.900000e+01          3.778107e+01   \n",
       "75%    3.679000e+03    1.930000e+02          3.779647e+01   \n",
       "max    9.969630e+05    4.430000e+02          4.551000e+01   \n",
       "\n",
       "       end_station_longitude  member_birth_year  start_station_id  \\\n",
       "count           3.542288e+06       3.542288e+06      3.542288e+06   \n",
       "mean           -1.223493e+02       1.983485e+03      1.236088e+02   \n",
       "std             3.116591e-01       1.009837e+01      1.052722e+02   \n",
       "min            -1.224737e+02       1.944000e+03      0.000000e+00   \n",
       "25%            -1.224107e+02       1.978000e+03      3.400000e+01   \n",
       "50%            -1.223971e+02       1.986000e+03      9.000000e+01   \n",
       "75%            -1.222894e+02       1.991000e+03      1.940000e+02   \n",
       "max             0.000000e+00       2.001000e+03      4.430000e+02   \n",
       "\n",
       "       start_station_latitude  start_station_longitude  start_time_year  \\\n",
       "count            3.542288e+06             3.542288e+06     3.542288e+06   \n",
       "mean             3.776749e+01            -1.223504e+02     2.018251e+03   \n",
       "std              1.059782e-01             1.594409e-01     6.657115e-01   \n",
       "min              0.000000e+00            -1.224737e+02     2.017000e+03   \n",
       "25%              3.777106e+01            -1.224117e+02     2.018000e+03   \n",
       "50%              3.778107e+01            -1.223974e+02     2.018000e+03   \n",
       "75%              3.779625e+01            -1.222887e+02     2.019000e+03   \n",
       "max              4.551000e+01             0.000000e+00     2.019000e+03   \n",
       "\n",
       "       end_time_year  start_time_month  end_time_month  start_time_hour  \\\n",
       "count   3.542288e+06      3.542288e+06    3.542288e+06     3.542288e+06   \n",
       "mean    2.018251e+03      6.171764e+00    6.171756e+00     1.351708e+01   \n",
       "std     6.657092e-01      3.227324e+00    3.227325e+00     4.767212e+00   \n",
       "min     2.017000e+03      1.000000e+00    1.000000e+00     0.000000e+00   \n",
       "25%     2.018000e+03      3.000000e+00    3.000000e+00     9.000000e+00   \n",
       "50%     2.018000e+03      6.000000e+00    6.000000e+00     1.400000e+01   \n",
       "75%     2.019000e+03      9.000000e+00    9.000000e+00     1.700000e+01   \n",
       "max     2.019000e+03      1.200000e+01    1.200000e+01     2.300000e+01   \n",
       "\n",
       "       end_time_hour    member_age  duration_min  \n",
       "count   3.542288e+06  3.542288e+06  3.542288e+06  \n",
       "mean    1.367479e+01  3.551485e+01  1.287893e+01  \n",
       "std     4.787803e+00  1.009837e+01  3.253576e+01  \n",
       "min     0.000000e+00  1.800000e+01  1.000000e+00  \n",
       "25%     9.000000e+00  2.800000e+01  5.800000e+00  \n",
       "50%     1.400000e+01  3.300000e+01  9.100000e+00  \n",
       "75%     1.800000e+01  4.100000e+01  1.400000e+01  \n",
       "max     2.300000e+01  7.500000e+01  1.438000e+03  "
      ]
     },
     "execution_count": 6,
     "metadata": {},
     "output_type": "execute_result"
    }
   ],
   "source": [
    "dfc.describe()"
   ]
  },
  {
   "cell_type": "code",
   "execution_count": 7,
   "metadata": {
    "slideshow": {
     "slide_type": "skip"
    }
   },
   "outputs": [],
   "source": [
    "base_color = sb.color_palette()[0]"
   ]
  },
  {
   "cell_type": "markdown",
   "metadata": {
    "slideshow": {
     "slide_type": "skip"
    }
   },
   "source": [
    "### Univariate Exploration"
   ]
  },
  {
   "cell_type": "markdown",
   "metadata": {
    "slideshow": {
     "slide_type": "slide"
    }
   },
   "source": [
    "### Mostly preferred bike sharing locations (Find top-10)"
   ]
  },
  {
   "cell_type": "code",
   "execution_count": 43,
   "metadata": {
    "slideshow": {
     "slide_type": "subslide"
    }
   },
   "outputs": [
    {
     "name": "stdout",
     "output_type": "stream",
     "text": [
      "Most preferred start stations!\n",
      "\n",
      "San Francisco Caltrain Station 2  (Townsend St at 4th St)    75898\n",
      "Market St at 10th St                                         69384\n",
      "San Francisco Ferry Building (Harry Bridges Plaza)           65960\n",
      "Berry St at 4th St                                           64914\n",
      "San Francisco Caltrain (Townsend St at 4th St)               63013\n",
      "Montgomery St BART Station (Market St at 2nd St)             60774\n",
      "Powell St BART Station (Market St at 4th St)                 56245\n",
      "The Embarcadero at Sansome St                                53503\n",
      "Steuart St at Market St                                      53043\n",
      "Howard St at Beale St                                        52237\n",
      "Name: start_station_name, dtype: int64\n"
     ]
    }
   ],
   "source": [
    "print('Most preferred start stations!\\n')\n",
    "print(dfc['start_station_name'].value_counts()[0:10,]);"
   ]
  },
  {
   "cell_type": "code",
   "execution_count": 44,
   "metadata": {
    "slideshow": {
     "slide_type": "slide"
    }
   },
   "outputs": [
    {
     "name": "stdout",
     "output_type": "stream",
     "text": [
      "Most preferred end stations!\n",
      "\n",
      "San Francisco Caltrain Station 2  (Townsend St at 4th St)    101523\n",
      "San Francisco Ferry Building (Harry Bridges Plaza)            78232\n",
      "San Francisco Caltrain (Townsend St at 4th St)                76010\n",
      "Montgomery St BART Station (Market St at 2nd St)              71914\n",
      "Market St at 10th St                                          68318\n",
      "Berry St at 4th St                                            63029\n",
      "The Embarcadero at Sansome St                                 60327\n",
      "Powell St BART Station (Market St at 4th St)                  59495\n",
      "Steuart St at Market St                                       53484\n",
      "Powell St BART Station (Market St at 5th St)                  48541\n",
      "Name: end_station_name, dtype: int64\n"
     ]
    }
   ],
   "source": [
    "print('Most preferred end stations!\\n')\n",
    "print(dfc['end_station_name'].value_counts()[0:10,]);"
   ]
  },
  {
   "cell_type": "markdown",
   "metadata": {
    "slideshow": {
     "slide_type": "skip"
    }
   },
   "source": [
    "At this point let's also check the proportions!"
   ]
  },
  {
   "cell_type": "code",
   "execution_count": 10,
   "metadata": {
    "slideshow": {
     "slide_type": "skip"
    }
   },
   "outputs": [],
   "source": [
    "sta_sum = dfc['start_station_name'].value_counts().sum()\n",
    "end_sum = dfc['end_station_name'].value_counts().sum()"
   ]
  },
  {
   "cell_type": "markdown",
   "metadata": {
    "slideshow": {
     "slide_type": "skip"
    }
   },
   "source": [
    "As an example let's check the proportion of the most preferred start station:"
   ]
  },
  {
   "cell_type": "code",
   "execution_count": 11,
   "metadata": {
    "slideshow": {
     "slide_type": "skip"
    }
   },
   "outputs": [
    {
     "data": {
      "text/plain": [
       "0.0214262646063787"
      ]
     },
     "execution_count": 11,
     "metadata": {},
     "output_type": "execute_result"
    }
   ],
   "source": [
    "dfc['start_station_name'].value_counts()[0]/dfc['start_station_name'].value_counts().sum()"
   ]
  },
  {
   "cell_type": "markdown",
   "metadata": {
    "slideshow": {
     "slide_type": "skip"
    }
   },
   "source": [
    "It's only around 2%. Thus no need to plot proportions. Above lists are informative as well."
   ]
  },
  {
   "cell_type": "markdown",
   "metadata": {
    "slideshow": {
     "slide_type": "skip"
    }
   },
   "source": [
    "**Conclusion:** Mostly used start and end stations are given above."
   ]
  },
  {
   "cell_type": "markdown",
   "metadata": {
    "slideshow": {
     "slide_type": "slide"
    }
   },
   "source": [
    "### Mostly preferred trip routes (Also find the most preffered trip route)"
   ]
  },
  {
   "cell_type": "code",
   "execution_count": 12,
   "metadata": {
    "slideshow": {
     "slide_type": "skip"
    }
   },
   "outputs": [],
   "source": [
    "dfc['route'] = dfc['start_station_name'].str.cat(dfc['end_station_name'], sep =\" - \") "
   ]
  },
  {
   "cell_type": "code",
   "execution_count": 46,
   "metadata": {
    "slideshow": {
     "slide_type": "subslide"
    }
   },
   "outputs": [
    {
     "name": "stdout",
     "output_type": "stream",
     "text": [
      "The top-10 route list is given below with their total usage over 2.5 years!\n"
     ]
    },
    {
     "data": {
      "text/plain": [
       "San Francisco Ferry Building (Harry Bridges Plaza) - The Embarcadero at Sansome St    10872\n",
       "The Embarcadero at Sansome St - Steuart St at Market St                                8546\n",
       "Berry St at 4th St - San Francisco Ferry Building (Harry Bridges Plaza)                8414\n",
       "Grand Ave at Perkins St - 19th Street BART Station                                     7128\n",
       "19th Street BART Station - Grand Ave at Perkins St                                     6844\n",
       "San Francisco Ferry Building (Harry Bridges Plaza) - Berry St at 4th St                6008\n",
       "The Embarcadero at Sansome St - San Francisco Ferry Building (Harry Bridges Plaza)     5968\n",
       "Steuart St at Market St - The Embarcadero at Sansome St                                5786\n",
       "Townsend St at 7th St - San Francisco Caltrain Station 2  (Townsend St at 4th St)      5597\n",
       "Market St at 10th St - San Francisco Caltrain Station 2  (Townsend St at 4th St)       5501\n",
       "Name: route, dtype: int64"
      ]
     },
     "execution_count": 46,
     "metadata": {},
     "output_type": "execute_result"
    }
   ],
   "source": [
    "print('The top-10 route list is given below with their total usage over 2.5 years!')\n",
    "dfc['route'].value_counts()[1:11,] #1 because 0 returns for NA values"
   ]
  },
  {
   "cell_type": "code",
   "execution_count": 47,
   "metadata": {
    "slideshow": {
     "slide_type": "slide"
    }
   },
   "outputs": [
    {
     "name": "stdout",
     "output_type": "stream",
     "text": [
      "The most preferred route is San Francisco Ferry Building (Harry Bridges Plaza) - The Embarcadero at Sansome St    10872\n",
      "Name: route, dtype: int64\n"
     ]
    }
   ],
   "source": [
    "top_route = dfc['route'].value_counts()[1:2,]; \n",
    "print('The most preferred route is {}'.format(top_route));"
   ]
  },
  {
   "cell_type": "markdown",
   "metadata": {
    "slideshow": {
     "slide_type": "subslide"
    }
   },
   "source": [
    "![The Most Preferred Bike Route for Bike Sharing Users](top_route.png)"
   ]
  },
  {
   "cell_type": "markdown",
   "metadata": {
    "slideshow": {
     "slide_type": "slide"
    }
   },
   "source": [
    "### The age distribution of Ford GoBike users"
   ]
  },
  {
   "cell_type": "code",
   "execution_count": 15,
   "metadata": {
    "slideshow": {
     "slide_type": "skip"
    }
   },
   "outputs": [
    {
     "data": {
      "image/png": "[encoded data removed]",
      "text/plain": [
       "<Figure size 720x432 with 1 Axes>"
      ]
     },
     "metadata": {
      "needs_background": "light"
     },
     "output_type": "display_data"
    }
   ],
   "source": [
    "plt.figure(figsize=(10,6))\n",
    "sb.boxplot(x='member_age', data=dfc, color=base_color, orient='h')\n",
    "plt.title(\"The Age Distribution of Ford GoBike Users\", fontsize=20)\n",
    "plt.xlabel(\"Bike Users Age\", fontsize=18, labelpad=10)\n",
    "plt.xlim(16,80)\n",
    "plt.savefig('image01.png');"
   ]
  },
  {
   "cell_type": "code",
   "execution_count": 16,
   "metadata": {
    "slideshow": {
     "slide_type": "skip"
    }
   },
   "outputs": [
    {
     "data": {
      "text/plain": [
       "33.0"
      ]
     },
     "execution_count": 16,
     "metadata": {},
     "output_type": "execute_result"
    }
   ],
   "source": [
    "dfc['member_age'].median()"
   ]
  },
  {
   "cell_type": "markdown",
   "metadata": {
    "slideshow": {
     "slide_type": "skip"
    }
   },
   "source": [
    "Above plot may not be explanatory for people who is not familiar with box-plot concept. Thus, let's draw a barplot as well."
   ]
  },
  {
   "cell_type": "code",
   "execution_count": 17,
   "metadata": {
    "slideshow": {
     "slide_type": "skip"
    }
   },
   "outputs": [
    {
     "name": "stderr",
     "output_type": "stream",
     "text": [
      "/Users/UGUR/anaconda3/lib/python3.7/site-packages/ipykernel_launcher.py:4: SettingWithCopyWarning: \n",
      "A value is trying to be set on a copy of a slice from a DataFrame\n",
      "\n",
      "See the caveats in the documentation: http://pandas.pydata.org/pandas-docs/stable/indexing.html#indexing-view-versus-copy\n",
      "  after removing the cwd from sys.path.\n",
      "/Users/UGUR/anaconda3/lib/python3.7/site-packages/ipykernel_launcher.py:5: SettingWithCopyWarning: \n",
      "A value is trying to be set on a copy of a slice from a DataFrame\n",
      "\n",
      "See the caveats in the documentation: http://pandas.pydata.org/pandas-docs/stable/indexing.html#indexing-view-versus-copy\n",
      "  \"\"\"\n",
      "/Users/UGUR/anaconda3/lib/python3.7/site-packages/ipykernel_launcher.py:6: SettingWithCopyWarning: \n",
      "A value is trying to be set on a copy of a slice from a DataFrame\n",
      "\n",
      "See the caveats in the documentation: http://pandas.pydata.org/pandas-docs/stable/indexing.html#indexing-view-versus-copy\n",
      "  \n",
      "/Users/UGUR/anaconda3/lib/python3.7/site-packages/ipykernel_launcher.py:7: SettingWithCopyWarning: \n",
      "A value is trying to be set on a copy of a slice from a DataFrame\n",
      "\n",
      "See the caveats in the documentation: http://pandas.pydata.org/pandas-docs/stable/indexing.html#indexing-view-versus-copy\n",
      "  import sys\n",
      "/Users/UGUR/anaconda3/lib/python3.7/site-packages/ipykernel_launcher.py:8: SettingWithCopyWarning: \n",
      "A value is trying to be set on a copy of a slice from a DataFrame\n",
      "\n",
      "See the caveats in the documentation: http://pandas.pydata.org/pandas-docs/stable/indexing.html#indexing-view-versus-copy\n",
      "  \n"
     ]
    }
   ],
   "source": [
    "#Creation of an empty column\n",
    "dfc['age_class'] = np.nan\n",
    "#Creation of age classes\n",
    "dfc.age_class[(dfc['member_age'] >= 18) & (dfc['member_age'] <= 29)] = str('Age 18-30')\n",
    "dfc.age_class[(dfc['member_age'] >= 30) & (dfc['member_age'] <= 39)] = str('Age 30-40')\n",
    "dfc.age_class[(dfc['member_age'] >= 40) & (dfc['member_age'] <= 49)] = str('Age 40-50')\n",
    "dfc.age_class[(dfc['member_age'] >= 50) & (dfc['member_age'] <= 59)] = str('Age 50-60')\n",
    "dfc.age_class[(dfc['member_age'] >= 60) & (dfc['member_age'] <= 75)] = str('Age 60-75')"
   ]
  },
  {
   "cell_type": "code",
   "execution_count": 18,
   "metadata": {
    "slideshow": {
     "slide_type": "skip"
    }
   },
   "outputs": [
    {
     "data": {
      "text/html": [
       "<div>\n",
       "<style scoped>\n",
       "    .dataframe tbody tr th:only-of-type {\n",
       "        vertical-align: middle;\n",
       "    }\n",
       "\n",
       "    .dataframe tbody tr th {\n",
       "        vertical-align: top;\n",
       "    }\n",
       "\n",
       "    .dataframe thead th {\n",
       "        text-align: right;\n",
       "    }\n",
       "</style>\n",
       "<table border=\"1\" class=\"dataframe\">\n",
       "  <thead>\n",
       "    <tr style=\"text-align: right;\">\n",
       "      <th></th>\n",
       "      <th>member_age</th>\n",
       "      <th>age_class</th>\n",
       "    </tr>\n",
       "  </thead>\n",
       "  <tbody>\n",
       "    <tr>\n",
       "      <th>62737</th>\n",
       "      <td>29</td>\n",
       "      <td>Age 18-30</td>\n",
       "    </tr>\n",
       "    <tr>\n",
       "      <th>2596368</th>\n",
       "      <td>33</td>\n",
       "      <td>Age 30-40</td>\n",
       "    </tr>\n",
       "    <tr>\n",
       "      <th>765006</th>\n",
       "      <td>50</td>\n",
       "      <td>Age 50-60</td>\n",
       "    </tr>\n",
       "    <tr>\n",
       "      <th>231101</th>\n",
       "      <td>27</td>\n",
       "      <td>Age 18-30</td>\n",
       "    </tr>\n",
       "    <tr>\n",
       "      <th>2101990</th>\n",
       "      <td>28</td>\n",
       "      <td>Age 18-30</td>\n",
       "    </tr>\n",
       "  </tbody>\n",
       "</table>\n",
       "</div>"
      ],
      "text/plain": [
       "         member_age  age_class\n",
       "62737            29  Age 18-30\n",
       "2596368          33  Age 30-40\n",
       "765006           50  Age 50-60\n",
       "231101           27  Age 18-30\n",
       "2101990          28  Age 18-30"
      ]
     },
     "execution_count": 18,
     "metadata": {},
     "output_type": "execute_result"
    }
   ],
   "source": [
    "dfc[['member_age','age_class']].sample(5)"
   ]
  },
  {
   "cell_type": "code",
   "execution_count": 19,
   "metadata": {
    "slideshow": {
     "slide_type": "subslide"
    }
   },
   "outputs": [
    {
     "data": {
      "image/png": "[encoded data removed]",
      "text/plain": [
       "<Figure size 720x432 with 1 Axes>"
      ]
     },
     "metadata": {
      "needs_background": "light"
     },
     "output_type": "display_data"
    }
   ],
   "source": [
    "g = sb.catplot(data=dfc , x='age_class', kind='count', color=base_color,\n",
    "               height=6, aspect=10/6,\n",
    "               order = dfc['age_class'].value_counts().index);\n",
    "plt.ylabel('Number of Bike Usage',fontsize=12);\n",
    "g.fig.suptitle('Bike Usage for the Different Age Groups', fontsize=16, fontweight='semibold');\n",
    "plt.savefig('image01_2.png');"
   ]
  },
  {
   "cell_type": "markdown",
   "metadata": {
    "slideshow": {
     "slide_type": "subslide"
    }
   },
   "source": [
    "**Comment**: Box-plot shows that most of the bike sharing system users are around ~33 years old. Parallel to this finding, the bar-chart above shows that people who are between 30-40 years old mostly use the bike sharing system. Young people (age 18-30) do not prefer bike sharing system as much as middle age (30-40) people. After 40 years old, the demand to bike sharing system is gradually decreased as expected."
   ]
  },
  {
   "cell_type": "markdown",
   "metadata": {
    "slideshow": {
     "slide_type": "slide"
    }
   },
   "source": [
    "### Bike usage according to daily hour, day and month"
   ]
  },
  {
   "cell_type": "code",
   "execution_count": 20,
   "metadata": {
    "slideshow": {
     "slide_type": "subslide"
    }
   },
   "outputs": [
    {
     "data": {
      "image/png": "[encoded data removed]",
      "text/plain": [
       "<Figure size 720x432 with 1 Axes>"
      ]
     },
     "metadata": {
      "needs_background": "light"
     },
     "output_type": "display_data"
    }
   ],
   "source": [
    "#HOURLY BIKE USAGE\n",
    "g = sb.catplot(data=dfc , x='start_time_hour', kind='count', color=base_color,\n",
    "               height=6, aspect=10/6,\n",
    "               order = dfc['start_time_hour'].value_counts().index)\n",
    "g.set_axis_labels(\"Hours\", \"Number of Bike Trips\")\n",
    "plt.xlabel('Start Time (Hour)',fontsize=12)\n",
    "plt.ylabel('Number of Bike Usage',fontsize=12)\n",
    "g.fig.suptitle('Hourly Usage of the Bikes', fontsize=16, fontweight='semibold');\n",
    "plt.savefig('image02.png');"
   ]
  },
  {
   "cell_type": "markdown",
   "metadata": {
    "slideshow": {
     "slide_type": "subslide"
    }
   },
   "source": [
    "**Comment**: According the hourly usage for all times, it seems that 5 p.m. and 8 a.m. are the top-2 hours for bike usage. Then 6 p.m. and 9 a.m. are the second top-2 hours for the bike usage. These hours are simply check-in and check-out hours for working people.<br>\n",
    "The least hours for bike users are the hours between 0-5 a.m. as expected."
   ]
  },
  {
   "cell_type": "code",
   "execution_count": 21,
   "metadata": {
    "slideshow": {
     "slide_type": "slide"
    }
   },
   "outputs": [
    {
     "data": {
      "image/png": "[encoded data removed]",
      "text/plain": [
       "<Figure size 720x432 with 1 Axes>"
      ]
     },
     "metadata": {
      "needs_background": "light"
     },
     "output_type": "display_data"
    }
   ],
   "source": [
    "#DAILY BIKE USAGE\n",
    "g = sb.catplot(data=dfc , x='start_time_weekday', kind='count', color=base_color,\n",
    "               height=6, aspect=10/6,\n",
    "               order = dfc['start_time_weekday'].value_counts().index)\n",
    "g.set_axis_labels(\"Days\", \"Number of Bike Trips\")\n",
    "plt.ylabel('Number of Bike Usage',fontsize=12)\n",
    "g.fig.suptitle('Daily Usage of the Bikes', fontsize=16, fontweight='semibold');\n",
    "plt.savefig('image03.png');"
   ]
  },
  {
   "cell_type": "code",
   "execution_count": 22,
   "metadata": {
    "slideshow": {
     "slide_type": "slide"
    }
   },
   "outputs": [
    {
     "data": {
      "image/png": "[encoded data removed]",
      "text/plain": [
       "<Figure size 720x432 with 1 Axes>"
      ]
     },
     "metadata": {
      "needs_background": "light"
     },
     "output_type": "display_data"
    }
   ],
   "source": [
    "#MONTHLY BIKE USAGE\n",
    "g = sb.catplot(data=dfc , x='start_time_month', kind='count', color=base_color,\n",
    "               height=6, aspect=10/6,\n",
    "               order = dfc['start_time_month'].value_counts().index)\n",
    "g.set_axis_labels(\"Hours\", \"Number of Bike Trips\")\n",
    "plt.xlabel('Months',fontsize=12)\n",
    "plt.ylabel('Number of Bike Usage',fontsize=12)\n",
    "g.fig.suptitle('Monthly Usage of the Bikes', fontsize=16, fontweight='semibold');\n",
    "plt.savefig('image04.png');"
   ]
  },
  {
   "cell_type": "markdown",
   "metadata": {
    "slideshow": {
     "slide_type": "subslide"
    }
   },
   "source": [
    "**Comment**: According the monthly usage, it seems that the highest amount of bike usage occurs in July based on the data. After July; June, April, March and May comes respectively and their levels are quite close to each others.<br>\n",
    "The least usages occur in November and December as expected due to climate. Our findings seem logical."
   ]
  },
  {
   "cell_type": "markdown",
   "metadata": {
    "slideshow": {
     "slide_type": "slide"
    }
   },
   "source": [
    "### Trip durations over days"
   ]
  },
  {
   "cell_type": "code",
   "execution_count": 23,
   "metadata": {
    "slideshow": {
     "slide_type": "skip"
    }
   },
   "outputs": [
    {
     "data": {
      "text/plain": [
       "count    3.542288e+06\n",
       "mean     1.287893e+01\n",
       "std      3.253576e+01\n",
       "min      1.000000e+00\n",
       "25%      5.800000e+00\n",
       "50%      9.100000e+00\n",
       "75%      1.400000e+01\n",
       "max      1.438000e+03\n",
       "Name: duration_min, dtype: float64"
      ]
     },
     "execution_count": 23,
     "metadata": {},
     "output_type": "execute_result"
    }
   ],
   "source": [
    "dfc['duration_min'].describe()"
   ]
  },
  {
   "cell_type": "code",
   "execution_count": 24,
   "metadata": {
    "slideshow": {
     "slide_type": "subslide"
    }
   },
   "outputs": [
    {
     "data": {
      "image/png": "[encoded data removed]",
      "text/plain": [
       "<Figure size 720x432 with 1 Axes>"
      ]
     },
     "metadata": {
      "needs_background": "light"
     },
     "output_type": "display_data"
    }
   ],
   "source": [
    "bin_edges = np.arange(1, 58+1, 1)\n",
    "#\n",
    "plt.figure(figsize=(10,6))\n",
    "plt.hist(data = dfc, x = 'duration_min', bins = bin_edges)\n",
    "plt.title(\"Trip duration (min) histogram\", fontsize=16, fontweight='semibold')\n",
    "plt.xlabel('Duration (Min)')\n",
    "plt.ylabel('Number of Usage');\n",
    "plt.savefig('image05.png');"
   ]
  },
  {
   "cell_type": "markdown",
   "metadata": {
    "slideshow": {
     "slide_type": "slide"
    }
   },
   "source": [
    "**Comment:** It seems that most people use the bike sharing system not longer than 30 minutes! Additionally, users use the bikes around 5-15 minutes. Consequently, people use the bike sharing system for short trips in general."
   ]
  },
  {
   "cell_type": "markdown",
   "metadata": {
    "slideshow": {
     "slide_type": "slide"
    }
   },
   "source": [
    "### User types"
   ]
  },
  {
   "cell_type": "code",
   "execution_count": 25,
   "metadata": {
    "slideshow": {
     "slide_type": "subslide"
    }
   },
   "outputs": [
    {
     "data": {
      "image/png": "[encoded data removed]",
      "text/plain": [
       "<Figure size 720x432 with 1 Axes>"
      ]
     },
     "metadata": {},
     "output_type": "display_data"
    }
   ],
   "source": [
    "cus_pro = dfc.query('user_type == \"Customer\"')['bike_id'].count() / dfc['bike_id'].count()\n",
    "sub_pro = dfc.query('user_type == \"Subscriber\"')['bike_id'].count() / dfc['bike_id'].count()\n",
    "proportions = [cus_pro, sub_pro]\n",
    "#\n",
    "plt.figure(figsize = [10, 6])\n",
    "labels = ['Customer', 'Subscriber']\n",
    "explode = (0, 0.05)\n",
    "colors = ['royalblue', 'gold'] #Ref: matplotlib.org/3.1.0/gallery/color/named_colors.html\n",
    "#\n",
    "plt.pie(proportions, explode=explode, labels=labels, colors = colors,\n",
    "        autopct='%1.1f%%', startangle=90);\n",
    "plt.axis('equal');\n",
    "plt.savefig('image06.png');"
   ]
  },
  {
   "cell_type": "markdown",
   "metadata": {
    "slideshow": {
     "slide_type": "subslide"
    }
   },
   "source": [
    "**Conclusion:** Subscribers use the bike sharing system significantly more than customers!\n",
    "Most probably being subscriber provides some discounts!"
   ]
  },
  {
   "cell_type": "markdown",
   "metadata": {
    "slideshow": {
     "slide_type": "skip"
    }
   },
   "source": [
    "### Bivariate Exploration"
   ]
  },
  {
   "cell_type": "markdown",
   "metadata": {
    "slideshow": {
     "slide_type": "slide"
    }
   },
   "source": [
    "### Hourly bike usage according to user type"
   ]
  },
  {
   "cell_type": "code",
   "execution_count": 26,
   "metadata": {
    "slideshow": {
     "slide_type": "subslide"
    }
   },
   "outputs": [
    {
     "data": {
      "text/plain": [
       "<Figure size 720x432 with 0 Axes>"
      ]
     },
     "metadata": {},
     "output_type": "display_data"
    },
    {
     "data": {
      "image/png": "[encoded data removed]",
      "text/plain": [
       "<Figure size 720x360 with 2 Axes>"
      ]
     },
     "metadata": {
      "needs_background": "light"
     },
     "output_type": "display_data"
    }
   ],
   "source": [
    "plt.figure(figsize = [10, 6]);\n",
    "g = sb.catplot(data=dfc, x='start_time_hour', col=\"user_type\", kind='count',\n",
    "               sharey = False, color = base_color);\n",
    "g.set_axis_labels(\"Hour\", \"Number of Trips\");\n",
    "g.set_titles(\"{col_name}\");\n",
    "g.fig.suptitle('Hourly usage of the bike share system according to user type',\n",
    "               y=1.05, fontsize=16, fontweight='semibold');\n",
    "plt.savefig('image07.png');"
   ]
  },
  {
   "cell_type": "markdown",
   "metadata": {
    "slideshow": {
     "slide_type": "subslide"
    }
   },
   "source": [
    "**Conclusion:** According the plots above, it seems that use cases in terms of daily hour show differences between subcribers and customers. Subscribers are tend to use the bike sharing system in check-in an check-out days for the work places (8-9 a.m and 5-6 p.m.) and demand from subscribers are low between 10 a.m. and 15 p.m.! However, customers are tend to use bike sharing system mostly starting from 10 a.m. up to 5 p.m.! And also customers use the bike sharing system around 8-9 a.m. but not much as subscribers as use."
   ]
  },
  {
   "cell_type": "markdown",
   "metadata": {
    "slideshow": {
     "slide_type": "slide"
    }
   },
   "source": [
    "### Monthly bike usage according to user type"
   ]
  },
  {
   "cell_type": "code",
   "execution_count": 27,
   "metadata": {
    "slideshow": {
     "slide_type": "subslide"
    }
   },
   "outputs": [
    {
     "data": {
      "text/plain": [
       "<Figure size 720x432 with 0 Axes>"
      ]
     },
     "metadata": {},
     "output_type": "display_data"
    },
    {
     "data": {
      "image/png": "[encoded data removed]",
      "text/plain": [
       "<Figure size 720x360 with 2 Axes>"
      ]
     },
     "metadata": {
      "needs_background": "light"
     },
     "output_type": "display_data"
    }
   ],
   "source": [
    "plt.figure(figsize = [10, 6]);\n",
    "g = sb.catplot(data=dfc, x='start_time_month', col=\"user_type\", kind='count',\n",
    "               sharey = False, color = base_color);\n",
    "g.set_axis_labels(\"Month\", \"Number of Trips\");\n",
    "g.set_titles(\"{col_name}\");\n",
    "g.fig.suptitle('Monthly usage of the bike share system according to user type',\n",
    "               y=1.05, fontsize=16, fontweight='semibold');\n",
    "plt.savefig('image08.png');"
   ]
  },
  {
   "cell_type": "markdown",
   "metadata": {
    "slideshow": {
     "slide_type": "subslide"
    }
   },
   "source": [
    "**Conclusion:** According the plots above, it seems that use cases in terms of monthly show similarities between subcribers and customers. Both subscribers and customers are tend to use the bike sharing system in spring and sumer seasons as expected. However, top months are different. Subscribers mostly use the bike sharing system in july however customers use in april at most."
   ]
  },
  {
   "cell_type": "markdown",
   "metadata": {
    "slideshow": {
     "slide_type": "skip"
    }
   },
   "source": [
    "### Multivariate Exploration"
   ]
  },
  {
   "cell_type": "markdown",
   "metadata": {
    "slideshow": {
     "slide_type": "slide"
    }
   },
   "source": [
    "### Hourly bike usage according to gender"
   ]
  },
  {
   "cell_type": "code",
   "execution_count": 28,
   "metadata": {
    "slideshow": {
     "slide_type": "subslide"
    }
   },
   "outputs": [
    {
     "data": {
      "image/png": "[encoded data removed]",
      "text/plain": [
       "<Figure size 810.375x432 with 1 Axes>"
      ]
     },
     "metadata": {
      "needs_background": "light"
     },
     "output_type": "display_data"
    }
   ],
   "source": [
    "g = sb.catplot(data=dfc , x='start_time_hour', kind='count',\n",
    "               hue='member_gender', height=6, aspect=10/6,\n",
    "               order = dfc['start_time_hour'].value_counts().index)\n",
    "g.set_axis_labels(\"Hours\", \"Number of Bike Trips\")\n",
    "plt.xlabel('Start Time (Hour)',fontsize=12)\n",
    "plt.ylabel('Number of Bike Usage',fontsize=12)\n",
    "g.fig.suptitle('Hourly Usage of the Bikes', fontsize=16, fontweight='semibold');\n",
    "plt.savefig('image09.png');"
   ]
  },
  {
   "cell_type": "markdown",
   "metadata": {
    "slideshow": {
     "slide_type": "subslide"
    }
   },
   "source": [
    "**Comment**: Males, Females and Others (here it's assumed that they have different sexual identities), show not identical but similar preferences in terms of bike usage hours. The second finding from the above plot is that males are significantly higher than females in terms of bike usage.<br>\n",
    "Aditionally, here log-scale could be used. However, there will be an explanatry part of this study and log-scale can be confusing for people who are not familiar with logarithms. "
   ]
  },
  {
   "cell_type": "markdown",
   "metadata": {
    "slideshow": {
     "slide_type": "slide"
    }
   },
   "source": [
    "### Monthly bike usage according to gender"
   ]
  },
  {
   "cell_type": "code",
   "execution_count": 29,
   "metadata": {
    "slideshow": {
     "slide_type": "subslide"
    }
   },
   "outputs": [
    {
     "data": {
      "image/png": "[encoded data removed]",
      "text/plain": [
       "<Figure size 810.375x432 with 1 Axes>"
      ]
     },
     "metadata": {
      "needs_background": "light"
     },
     "output_type": "display_data"
    }
   ],
   "source": [
    "g = sb.catplot(data=dfc , x='start_time_month', kind='count',\n",
    "               hue='member_gender', height=6, aspect=10/6,\n",
    "               order = dfc['start_time_month'].value_counts().index)\n",
    "g.set_axis_labels(\"Months\", \"Number of Bike Trips\")\n",
    "#plt.xlabel('Start Time (Month)',fontsize=12)\n",
    "plt.ylabel('Number of Bike Usage',fontsize=12)\n",
    "g.fig.suptitle('Monthly Usage of the Bikes', fontsize=16, fontweight='semibold');\n",
    "plt.savefig('image10.png');"
   ]
  },
  {
   "cell_type": "markdown",
   "metadata": {
    "slideshow": {
     "slide_type": "subslide"
    }
   },
   "source": [
    "**Comment**: Males, Females and Others (here it's assumed that they have different sexual identities), show not identical but similar preferences in terms of bike usage months. For both males and females the top-3 months are july, june and april respectively."
   ]
  },
  {
   "cell_type": "markdown",
   "metadata": {
    "slideshow": {
     "slide_type": "slide"
    }
   },
   "source": [
    "#### CONCLUSION \n",
    "<br>\n",
    "The people using the bicycle sharing system are mostly middle-aged people and men. Again, the majority of people who use this system use the system at 7 and 8 in the morning and at 5 and 7 in the evening, which indicates that the working people use it more. Again, people who use this system usually use this system for tours of less than 30 minutes. This shows that people use this system to get to work more than to visit. However, the reason people often use the system for less than 30 minutes is because they want to avoid extra fees because the system starts to charge extra fees after 30 minutes.\n",
    "\n",
    "Speaking of ecomic use, about 89% of people who use the system prefer to become a member because membership provides cheaper usage."
   ]
  },
  {
   "cell_type": "markdown",
   "metadata": {
    "slideshow": {
     "slide_type": "subslide"
    }
   },
   "source": [
    "![](image06.png)"
   ]
  },
  {
   "cell_type": "markdown",
   "metadata": {
    "slideshow": {
     "slide_type": "slide"
    }
   },
   "source": [
    "#### CONCLUSION \n",
    "<br>\n",
    "When we look at the usage on day basis, it is seen that the system is used more during the week. Again, this shows that the system is used more by the working people."
   ]
  },
  {
   "cell_type": "markdown",
   "metadata": {
    "slideshow": {
     "slide_type": "subslide"
    }
   },
   "source": [
    "![](image03.png)"
   ]
  },
  {
   "cell_type": "markdown",
   "metadata": {
    "slideshow": {
     "slide_type": "slide"
    }
   },
   "source": [
    "#### CONCLUSION \n",
    "<br>\n",
    "In addition, if you take a look at the commonly used routes:\n",
    "\n",
    "San Francisco Ferry Building - The Embarcadero at Sansome St<br>\n",
    "The Embarcadero at Sansome St in Steuart St at Market St<br>\n",
    "Berry St at 4th St - San Francisco Ferry Building (Harry Bridges Plaza)<br>\n",
    "Grand Ave at Perkins St. - 19th Street BART Station<br>\n",
    "19th Street BART Station - Grand Ave at Perkins St<br>\n",
    "San Francisco Ferry Building - Berry St at 4th St<br>\n",
    "The Embarcadero at Sansome St - San Francisco Ferry Building (Harry Bridges Plaza)<br>\n",
    "Steuart St at Market St - The Embarcadero at Sansome St<br>\n",
    "Townsend St at 7th St - San Francisco Caltrain Station 2<br>\n",
    "Market St at 10th St - San Francisco Caltrain Station 2 (Townsend St at 4th St)<br>\n",
    "\n",
    "<br>We can see that the system is mostly used in areas **where white collars work**."
   ]
  },
  {
   "cell_type": "markdown",
   "metadata": {
    "slideshow": {
     "slide_type": "slide"
    }
   },
   "source": [
    "#### CONCLUSION \n",
    "<br>\n",
    "Consequently, to deploy a similar system in another country, the stations need to be located close to the offices, especially those with white-collar workers. Advertisements should be channeled to middle-aged people as well as to men by weight.<br>\n",
    "\n",
    "Reported by Ugur URESIN, MSc."
   ]
  }
 ],
 "metadata": {
  "celltoolbar": "Slideshow",
  "kernelspec": {
   "display_name": "Python 3",
   "language": "python",
   "name": "python3"
  },
  "language_info": {
   "codemirror_mode": {
    "name": "ipython",
    "version": 3
   },
   "file_extension": ".py",
   "mimetype": "text/x-python",
   "name": "python",
   "nbconvert_exporter": "python",
   "pygments_lexer": "ipython3",
   "version": "3.8.8"
  }
 },
 "nbformat": 4,
 "nbformat_minor": 2
}
